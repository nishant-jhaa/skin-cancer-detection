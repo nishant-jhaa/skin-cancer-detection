{
  "nbformat": 4,
  "nbformat_minor": 0,
  "metadata": {
    "colab": {
      "provenance": [],
      "collapsed_sections": [],
      "authorship_tag": "ABX9TyPmjk2nNpqTkLLinsiZKbT2",
      "include_colab_link": true
    },
    "kernelspec": {
      "name": "python3",
      "display_name": "Python 3"
    },
    "language_info": {
      "name": "python"
    }
  },
  "cells": [
    {
      "cell_type": "markdown",
      "metadata": {
        "id": "view-in-github",
        "colab_type": "text"
      },
      "source": [
        "<a href=\"https://colab.research.google.com/github/nishant-jhaa/skin-cancer-detection/blob/main/Model_2_skin_cancer_new.ipynb\" target=\"_parent\"><img src=\"https://colab.research.google.com/assets/colab-badge.svg\" alt=\"Open In Colab\"/></a>"
      ]
    },
    {
      "cell_type": "code",
      "execution_count": null,
      "metadata": {
        "id": "8bhbD93pK9T6"
      },
      "outputs": [],
      "source": []
    },
    {
      "cell_type": "code",
      "source": [
        "from google.colab import drive\n",
        "drive.mount('/content/drive')"
      ],
      "metadata": {
        "colab": {
          "base_uri": "https://localhost:8080/"
        },
        "id": "_SgSsDHmK-V5",
        "outputId": "9e4aa8e9-d56b-445c-ac2c-12c9edfd7f50"
      },
      "execution_count": null,
      "outputs": [
        {
          "output_type": "stream",
          "name": "stdout",
          "text": [
            "Mounted at /content/drive\n"
          ]
        }
      ]
    },
    {
      "cell_type": "code",
      "source": [
        "import os\n",
        "import numpy as np\n",
        "import pandas as pd\n",
        "import seaborn as seaborn\n",
        "import matplotlib.pyplot as plt"
      ],
      "metadata": {
        "id": "Vyg6rqbMK-Y_"
      },
      "execution_count": null,
      "outputs": []
    },
    {
      "cell_type": "code",
      "source": [
        "skin_images = \"/content/drive/MyDrive/skin cancer/data/train\""
      ],
      "metadata": {
        "id": "Nru_BpDPK-bk"
      },
      "execution_count": null,
      "outputs": []
    },
    {
      "cell_type": "code",
      "source": [
        "skin_folders = os.listdir(skin_images)\n",
        "print(skin_folders)"
      ],
      "metadata": {
        "colab": {
          "base_uri": "https://localhost:8080/"
        },
        "id": "ZAGUr-zhK-dQ",
        "outputId": "51bd72ac-6541-41d9-b36c-2b03c8f55b2e"
      },
      "execution_count": null,
      "outputs": [
        {
          "output_type": "stream",
          "name": "stdout",
          "text": [
            "['benign', 'malignant']\n"
          ]
        }
      ]
    },
    {
      "cell_type": "code",
      "source": [
        "skin_image_data = []\n",
        "labels = []"
      ],
      "metadata": {
        "id": "lEfzFAdYK-fb"
      },
      "execution_count": null,
      "outputs": []
    },
    {
      "cell_type": "code",
      "source": [
        "label_dict = {\n",
        "    'benign':0,\n",
        "    'malignant':1\n",
        "}"
      ],
      "metadata": {
        "id": "fHrTkfoJK-kY"
      },
      "execution_count": null,
      "outputs": []
    },
    {
      "cell_type": "code",
      "source": [
        "from keras.preprocessing import image\n",
        "\n",
        "for ix in skin_folders:\n",
        "    path = os.path.join(skin_images,ix)\n",
        "    for im in os.listdir(path):\n",
        "        img = image.load_img(os.path.join(path,im),target_size = ((512,512)))\n",
        "        img_array = image.img_to_array(img)\n",
        "        skin_image_data.append(img_array)\n",
        "        labels.append(label_dict[ix])"
      ],
      "metadata": {
        "id": "qBCCDGp1K-nT"
      },
      "execution_count": null,
      "outputs": []
    },
    {
      "cell_type": "code",
      "source": [
        "print(len(skin_image_data),len(labels))"
      ],
      "metadata": {
        "colab": {
          "base_uri": "https://localhost:8080/"
        },
        "id": "ObxkjgkYK-rY",
        "outputId": "b2e6f32a-ef3d-4faf-aca6-0a04b4fe2547"
      },
      "execution_count": null,
      "outputs": [
        {
          "output_type": "stream",
          "name": "stdout",
          "text": [
            "40 40\n"
          ]
        }
      ]
    },
    {
      "cell_type": "code",
      "source": [
        "combined = list(zip(skin_image_data,labels))\n",
        "skin_image_data[:],labels[:] = zip(*combined)"
      ],
      "metadata": {
        "id": "QIySsKo3K-xf"
      },
      "execution_count": null,
      "outputs": []
    },
    {
      "cell_type": "code",
      "source": [
        "print(labels)"
      ],
      "metadata": {
        "colab": {
          "base_uri": "https://localhost:8080/"
        },
        "id": "gn81qFeUK-0U",
        "outputId": "4bb8009d-b07e-4f71-bc65-16b152776991"
      },
      "execution_count": null,
      "outputs": [
        {
          "output_type": "stream",
          "name": "stdout",
          "text": [
            "[0, 0, 0, 0, 0, 0, 0, 0, 0, 0, 0, 0, 0, 0, 0, 0, 0, 0, 0, 0, 1, 1, 1, 1, 1, 1, 1, 1, 1, 1, 1, 1, 1, 1, 1, 1, 1, 1, 1, 1]\n"
          ]
        }
      ]
    },
    {
      "cell_type": "code",
      "source": [
        "x_train = np.array(skin_image_data)\n",
        "y_train = np.array(labels)\n",
        "\n",
        "print(x_train.shape,y_train.shape)"
      ],
      "metadata": {
        "colab": {
          "base_uri": "https://localhost:8080/"
        },
        "id": "zeomrQPmK-4h",
        "outputId": "5d3a04ac-12b7-437e-f816-5a123c786d82"
      },
      "execution_count": null,
      "outputs": [
        {
          "output_type": "stream",
          "name": "stdout",
          "text": [
            "(40, 512, 512, 3) (40,)\n"
          ]
        }
      ]
    },
    {
      "cell_type": "code",
      "source": [
        "from keras.utils import np_utils\n",
        "\n",
        "y_train = np_utils.to_categorical(y_train)\n",
        "print(x_train.shape,y_train.shape)"
      ],
      "metadata": {
        "colab": {
          "base_uri": "https://localhost:8080/"
        },
        "id": "vEZ7-acmK-6_",
        "outputId": "aefbaf3e-20ed-4ecc-8658-69da90159ad5"
      },
      "execution_count": null,
      "outputs": [
        {
          "output_type": "stream",
          "name": "stdout",
          "text": [
            "(40, 512, 512, 3) (40, 2)\n"
          ]
        }
      ]
    },
    {
      "cell_type": "code",
      "source": [
        "from keras.preprocessing.image import ImageDataGenerator"
      ],
      "metadata": {
        "id": "d3h2KMm9K-9b"
      },
      "execution_count": null,
      "outputs": []
    },
    {
      "cell_type": "code",
      "source": [
        "augment = ImageDataGenerator( \n",
        "                             rotation_range=20,\n",
        "                              width_shift_range=0.01, \n",
        "                              height_shift_range=0.01, \n",
        "                              horizontal_flip=False, \n",
        "                              vertical_flip=False,\n",
        "                            )\n",
        "augment.fit(x_train)"
      ],
      "metadata": {
        "id": "BaTsQ8-DMzkm"
      },
      "execution_count": null,
      "outputs": []
    },
    {
      "cell_type": "code",
      "source": [
        "from tensorflow.keras.applications.vgg19 import VGG19\n",
        "from tensorflow.keras.optimizers import Adam\n",
        "from tensorflow.keras.layers import *\n",
        "from tensorflow.keras.models import Model\n",
        "from tensorflow.keras.regularizers import l2"
      ],
      "metadata": {
        "id": "iKr0LB9gMznM"
      },
      "execution_count": null,
      "outputs": []
    },
    {
      "cell_type": "code",
      "source": [
        "model = VGG19(include_top = False,weights = 'imagenet',input_shape = (512,512,3))"
      ],
      "metadata": {
        "colab": {
          "base_uri": "https://localhost:8080/"
        },
        "id": "Pi3COM7bMzpW",
        "outputId": "9d4a438b-c33f-4600-88e6-77ce514bb3fa"
      },
      "execution_count": null,
      "outputs": [
        {
          "output_type": "stream",
          "name": "stdout",
          "text": [
            "Downloading data from https://storage.googleapis.com/tensorflow/keras-applications/vgg19/vgg19_weights_tf_dim_ordering_tf_kernels_notop.h5\n",
            "80142336/80134624 [==============================] - 1s 0us/step\n",
            "80150528/80134624 [==============================] - 1s 0us/step\n"
          ]
        }
      ]
    },
    {
      "cell_type": "code",
      "source": [
        "model.summary()"
      ],
      "metadata": {
        "colab": {
          "base_uri": "https://localhost:8080/"
        },
        "id": "VECiPbH-NCyz",
        "outputId": "0d979549-6658-48e9-b939-9356abe547f7"
      },
      "execution_count": null,
      "outputs": [
        {
          "output_type": "stream",
          "name": "stdout",
          "text": [
            "Model: \"vgg19\"\n",
            "_________________________________________________________________\n",
            " Layer (type)                Output Shape              Param #   \n",
            "=================================================================\n",
            " input_1 (InputLayer)        [(None, 512, 512, 3)]     0         \n",
            "                                                                 \n",
            " block1_conv1 (Conv2D)       (None, 512, 512, 64)      1792      \n",
            "                                                                 \n",
            " block1_conv2 (Conv2D)       (None, 512, 512, 64)      36928     \n",
            "                                                                 \n",
            " block1_pool (MaxPooling2D)  (None, 256, 256, 64)      0         \n",
            "                                                                 \n",
            " block2_conv1 (Conv2D)       (None, 256, 256, 128)     73856     \n",
            "                                                                 \n",
            " block2_conv2 (Conv2D)       (None, 256, 256, 128)     147584    \n",
            "                                                                 \n",
            " block2_pool (MaxPooling2D)  (None, 128, 128, 128)     0         \n",
            "                                                                 \n",
            " block3_conv1 (Conv2D)       (None, 128, 128, 256)     295168    \n",
            "                                                                 \n",
            " block3_conv2 (Conv2D)       (None, 128, 128, 256)     590080    \n",
            "                                                                 \n",
            " block3_conv3 (Conv2D)       (None, 128, 128, 256)     590080    \n",
            "                                                                 \n",
            " block3_conv4 (Conv2D)       (None, 128, 128, 256)     590080    \n",
            "                                                                 \n",
            " block3_pool (MaxPooling2D)  (None, 64, 64, 256)       0         \n",
            "                                                                 \n",
            " block4_conv1 (Conv2D)       (None, 64, 64, 512)       1180160   \n",
            "                                                                 \n",
            " block4_conv2 (Conv2D)       (None, 64, 64, 512)       2359808   \n",
            "                                                                 \n",
            " block4_conv3 (Conv2D)       (None, 64, 64, 512)       2359808   \n",
            "                                                                 \n",
            " block4_conv4 (Conv2D)       (None, 64, 64, 512)       2359808   \n",
            "                                                                 \n",
            " block4_pool (MaxPooling2D)  (None, 32, 32, 512)       0         \n",
            "                                                                 \n",
            " block5_conv1 (Conv2D)       (None, 32, 32, 512)       2359808   \n",
            "                                                                 \n",
            " block5_conv2 (Conv2D)       (None, 32, 32, 512)       2359808   \n",
            "                                                                 \n",
            " block5_conv3 (Conv2D)       (None, 32, 32, 512)       2359808   \n",
            "                                                                 \n",
            " block5_conv4 (Conv2D)       (None, 32, 32, 512)       2359808   \n",
            "                                                                 \n",
            " block5_pool (MaxPooling2D)  (None, 16, 16, 512)       0         \n",
            "                                                                 \n",
            "=================================================================\n",
            "Total params: 20,024,384\n",
            "Trainable params: 20,024,384\n",
            "Non-trainable params: 0\n",
            "_________________________________________________________________\n"
          ]
        }
      ]
    },
    {
      "cell_type": "code",
      "source": [
        "for ix in range(len(model.layers)):\n",
        "    print(ix,model.layers[ix])"
      ],
      "metadata": {
        "colab": {
          "base_uri": "https://localhost:8080/"
        },
        "id": "D2e7KEKxNC1E",
        "outputId": "b282e078-79fe-4379-87b7-d74d24fe971b"
      },
      "execution_count": null,
      "outputs": [
        {
          "output_type": "stream",
          "name": "stdout",
          "text": [
            "0 <keras.engine.input_layer.InputLayer object at 0x7fbde583aa50>\n",
            "1 <keras.layers.convolutional.Conv2D object at 0x7fbde529cd10>\n",
            "2 <keras.layers.convolutional.Conv2D object at 0x7fbde4dce710>\n",
            "3 <keras.layers.pooling.MaxPooling2D object at 0x7fbde4592810>\n",
            "4 <keras.layers.convolutional.Conv2D object at 0x7fbde10cd990>\n",
            "5 <keras.layers.convolutional.Conv2D object at 0x7fbde10d8110>\n",
            "6 <keras.layers.pooling.MaxPooling2D object at 0x7fbde10cdbd0>\n",
            "7 <keras.layers.convolutional.Conv2D object at 0x7fbde10e1210>\n",
            "8 <keras.layers.convolutional.Conv2D object at 0x7fbde10e5a90>\n",
            "9 <keras.layers.convolutional.Conv2D object at 0x7fbde10e86d0>\n",
            "10 <keras.layers.convolutional.Conv2D object at 0x7fbde10dcd50>\n",
            "11 <keras.layers.pooling.MaxPooling2D object at 0x7fbde1074710>\n",
            "12 <keras.layers.convolutional.Conv2D object at 0x7fbde107bf90>\n",
            "13 <keras.layers.convolutional.Conv2D object at 0x7fbde1074310>\n",
            "14 <keras.layers.convolutional.Conv2D object at 0x7fbde1080290>\n",
            "15 <keras.layers.convolutional.Conv2D object at 0x7fbde1086950>\n",
            "16 <keras.layers.pooling.MaxPooling2D object at 0x7fbde1080810>\n",
            "17 <keras.layers.convolutional.Conv2D object at 0x7fbde108b590>\n",
            "18 <keras.layers.convolutional.Conv2D object at 0x7fbde10948d0>\n",
            "19 <keras.layers.convolutional.Conv2D object at 0x7fbde109afd0>\n",
            "20 <keras.layers.convolutional.Conv2D object at 0x7fbde109c1d0>\n",
            "21 <keras.layers.pooling.MaxPooling2D object at 0x7fbde10ab810>\n"
          ]
        }
      ]
    },
    {
      "cell_type": "code",
      "source": [
        "for layer in model.layers[:19]:\n",
        "    layer.trainable = False\n",
        "for i, layer in enumerate(model.layers):\n",
        "    print(i, layer.name, layer.trainable)"
      ],
      "metadata": {
        "colab": {
          "base_uri": "https://localhost:8080/"
        },
        "id": "Cuxk0Dy4NC44",
        "outputId": "77f79b0e-6104-49d3-8b2b-22115474e990"
      },
      "execution_count": null,
      "outputs": [
        {
          "output_type": "stream",
          "name": "stdout",
          "text": [
            "0 input_1 False\n",
            "1 block1_conv1 False\n",
            "2 block1_conv2 False\n",
            "3 block1_pool False\n",
            "4 block2_conv1 False\n",
            "5 block2_conv2 False\n",
            "6 block2_pool False\n",
            "7 block3_conv1 False\n",
            "8 block3_conv2 False\n",
            "9 block3_conv3 False\n",
            "10 block3_conv4 False\n",
            "11 block3_pool False\n",
            "12 block4_conv1 False\n",
            "13 block4_conv2 False\n",
            "14 block4_conv3 False\n",
            "15 block4_conv4 False\n",
            "16 block4_pool False\n",
            "17 block5_conv1 False\n",
            "18 block5_conv2 False\n",
            "19 block5_conv3 True\n",
            "20 block5_conv4 True\n",
            "21 block5_pool True\n"
          ]
        }
      ]
    },
    {
      "cell_type": "code",
      "source": [
        "av1 = Flatten()(model.output)\n",
        "fc1 = Dense(256,activation='relu',kernel_regularizer= l2(0.01),input_dim=256)(av1)\n",
        "d1 = Dropout(0.5)(fc1)\n",
        "fc2 = Dense(128,activation='relu',kernel_regularizer= l2(0.01),input_dim=128)(d1)\n",
        "d2 = Dropout(0.5)(fc2)\n",
        "fc3 = Dense(2,activation = 'sigmoid')(d2)\n",
        "\n",
        "\n",
        "model_vgg = Model(model.input,fc3)\n",
        "model_vgg.summary()"
      ],
      "metadata": {
        "colab": {
          "base_uri": "https://localhost:8080/"
        },
        "id": "bI99s4wKNC7c",
        "outputId": "7d329306-1639-41f9-ce09-6b53490f986f"
      },
      "execution_count": null,
      "outputs": [
        {
          "output_type": "stream",
          "name": "stdout",
          "text": [
            "Model: \"model\"\n",
            "_________________________________________________________________\n",
            " Layer (type)                Output Shape              Param #   \n",
            "=================================================================\n",
            " input_1 (InputLayer)        [(None, 512, 512, 3)]     0         \n",
            "                                                                 \n",
            " block1_conv1 (Conv2D)       (None, 512, 512, 64)      1792      \n",
            "                                                                 \n",
            " block1_conv2 (Conv2D)       (None, 512, 512, 64)      36928     \n",
            "                                                                 \n",
            " block1_pool (MaxPooling2D)  (None, 256, 256, 64)      0         \n",
            "                                                                 \n",
            " block2_conv1 (Conv2D)       (None, 256, 256, 128)     73856     \n",
            "                                                                 \n",
            " block2_conv2 (Conv2D)       (None, 256, 256, 128)     147584    \n",
            "                                                                 \n",
            " block2_pool (MaxPooling2D)  (None, 128, 128, 128)     0         \n",
            "                                                                 \n",
            " block3_conv1 (Conv2D)       (None, 128, 128, 256)     295168    \n",
            "                                                                 \n",
            " block3_conv2 (Conv2D)       (None, 128, 128, 256)     590080    \n",
            "                                                                 \n",
            " block3_conv3 (Conv2D)       (None, 128, 128, 256)     590080    \n",
            "                                                                 \n",
            " block3_conv4 (Conv2D)       (None, 128, 128, 256)     590080    \n",
            "                                                                 \n",
            " block3_pool (MaxPooling2D)  (None, 64, 64, 256)       0         \n",
            "                                                                 \n",
            " block4_conv1 (Conv2D)       (None, 64, 64, 512)       1180160   \n",
            "                                                                 \n",
            " block4_conv2 (Conv2D)       (None, 64, 64, 512)       2359808   \n",
            "                                                                 \n",
            " block4_conv3 (Conv2D)       (None, 64, 64, 512)       2359808   \n",
            "                                                                 \n",
            " block4_conv4 (Conv2D)       (None, 64, 64, 512)       2359808   \n",
            "                                                                 \n",
            " block4_pool (MaxPooling2D)  (None, 32, 32, 512)       0         \n",
            "                                                                 \n",
            " block5_conv1 (Conv2D)       (None, 32, 32, 512)       2359808   \n",
            "                                                                 \n",
            " block5_conv2 (Conv2D)       (None, 32, 32, 512)       2359808   \n",
            "                                                                 \n",
            " block5_conv3 (Conv2D)       (None, 32, 32, 512)       2359808   \n",
            "                                                                 \n",
            " block5_conv4 (Conv2D)       (None, 32, 32, 512)       2359808   \n",
            "                                                                 \n",
            " block5_pool (MaxPooling2D)  (None, 16, 16, 512)       0         \n",
            "                                                                 \n",
            " flatten (Flatten)           (None, 131072)            0         \n",
            "                                                                 \n",
            " dense (Dense)               (None, 256)               33554688  \n",
            "                                                                 \n",
            " dropout (Dropout)           (None, 256)               0         \n",
            "                                                                 \n",
            " dense_1 (Dense)             (None, 128)               32896     \n",
            "                                                                 \n",
            " dropout_1 (Dropout)         (None, 128)               0         \n",
            "                                                                 \n",
            " dense_2 (Dense)             (None, 2)                 258       \n",
            "                                                                 \n",
            "=================================================================\n",
            "Total params: 53,612,226\n",
            "Trainable params: 38,307,458\n",
            "Non-trainable params: 15,304,768\n",
            "_________________________________________________________________\n"
          ]
        }
      ]
    },
    {
      "cell_type": "code",
      "source": [
        "from tensorflow.keras.applications import Xception"
      ],
      "metadata": {
        "id": "V6VfJxxYNC-o"
      },
      "execution_count": null,
      "outputs": []
    },
    {
      "cell_type": "code",
      "source": [
        "model1 = Xception(include_top=False, input_shape=(512,512,3), weights='imagenet')"
      ],
      "metadata": {
        "colab": {
          "base_uri": "https://localhost:8080/"
        },
        "id": "GlvqNU9UNDA2",
        "outputId": "26c585fb-6561-4428-d439-2e1133b042ce"
      },
      "execution_count": null,
      "outputs": [
        {
          "output_type": "stream",
          "name": "stdout",
          "text": [
            "Downloading data from https://storage.googleapis.com/tensorflow/keras-applications/xception/xception_weights_tf_dim_ordering_tf_kernels_notop.h5\n",
            "83689472/83683744 [==============================] - 1s 0us/step\n",
            "83697664/83683744 [==============================] - 1s 0us/step\n"
          ]
        }
      ]
    },
    {
      "cell_type": "code",
      "source": [
        "model1.summary()"
      ],
      "metadata": {
        "colab": {
          "base_uri": "https://localhost:8080/"
        },
        "id": "lBjuTsIQNDEl",
        "outputId": "d4612ef4-3704-4d1e-d479-f57846d815d4"
      },
      "execution_count": null,
      "outputs": [
        {
          "output_type": "stream",
          "name": "stdout",
          "text": [
            "Model: \"xception\"\n",
            "__________________________________________________________________________________________________\n",
            " Layer (type)                   Output Shape         Param #     Connected to                     \n",
            "==================================================================================================\n",
            " input_2 (InputLayer)           [(None, 512, 512, 3  0           []                               \n",
            "                                )]                                                                \n",
            "                                                                                                  \n",
            " block1_conv1 (Conv2D)          (None, 255, 255, 32  864         ['input_2[0][0]']                \n",
            "                                )                                                                 \n",
            "                                                                                                  \n",
            " block1_conv1_bn (BatchNormaliz  (None, 255, 255, 32  128        ['block1_conv1[0][0]']           \n",
            " ation)                         )                                                                 \n",
            "                                                                                                  \n",
            " block1_conv1_act (Activation)  (None, 255, 255, 32  0           ['block1_conv1_bn[0][0]']        \n",
            "                                )                                                                 \n",
            "                                                                                                  \n",
            " block1_conv2 (Conv2D)          (None, 253, 253, 64  18432       ['block1_conv1_act[0][0]']       \n",
            "                                )                                                                 \n",
            "                                                                                                  \n",
            " block1_conv2_bn (BatchNormaliz  (None, 253, 253, 64  256        ['block1_conv2[0][0]']           \n",
            " ation)                         )                                                                 \n",
            "                                                                                                  \n",
            " block1_conv2_act (Activation)  (None, 253, 253, 64  0           ['block1_conv2_bn[0][0]']        \n",
            "                                )                                                                 \n",
            "                                                                                                  \n",
            " block2_sepconv1 (SeparableConv  (None, 253, 253, 12  8768       ['block1_conv2_act[0][0]']       \n",
            " 2D)                            8)                                                                \n",
            "                                                                                                  \n",
            " block2_sepconv1_bn (BatchNorma  (None, 253, 253, 12  512        ['block2_sepconv1[0][0]']        \n",
            " lization)                      8)                                                                \n",
            "                                                                                                  \n",
            " block2_sepconv2_act (Activatio  (None, 253, 253, 12  0          ['block2_sepconv1_bn[0][0]']     \n",
            " n)                             8)                                                                \n",
            "                                                                                                  \n",
            " block2_sepconv2 (SeparableConv  (None, 253, 253, 12  17536      ['block2_sepconv2_act[0][0]']    \n",
            " 2D)                            8)                                                                \n",
            "                                                                                                  \n",
            " block2_sepconv2_bn (BatchNorma  (None, 253, 253, 12  512        ['block2_sepconv2[0][0]']        \n",
            " lization)                      8)                                                                \n",
            "                                                                                                  \n",
            " conv2d (Conv2D)                (None, 127, 127, 12  8192        ['block1_conv2_act[0][0]']       \n",
            "                                8)                                                                \n",
            "                                                                                                  \n",
            " block2_pool (MaxPooling2D)     (None, 127, 127, 12  0           ['block2_sepconv2_bn[0][0]']     \n",
            "                                8)                                                                \n",
            "                                                                                                  \n",
            " batch_normalization (BatchNorm  (None, 127, 127, 12  512        ['conv2d[0][0]']                 \n",
            " alization)                     8)                                                                \n",
            "                                                                                                  \n",
            " add (Add)                      (None, 127, 127, 12  0           ['block2_pool[0][0]',            \n",
            "                                8)                                'batch_normalization[0][0]']    \n",
            "                                                                                                  \n",
            " block3_sepconv1_act (Activatio  (None, 127, 127, 12  0          ['add[0][0]']                    \n",
            " n)                             8)                                                                \n",
            "                                                                                                  \n",
            " block3_sepconv1 (SeparableConv  (None, 127, 127, 25  33920      ['block3_sepconv1_act[0][0]']    \n",
            " 2D)                            6)                                                                \n",
            "                                                                                                  \n",
            " block3_sepconv1_bn (BatchNorma  (None, 127, 127, 25  1024       ['block3_sepconv1[0][0]']        \n",
            " lization)                      6)                                                                \n",
            "                                                                                                  \n",
            " block3_sepconv2_act (Activatio  (None, 127, 127, 25  0          ['block3_sepconv1_bn[0][0]']     \n",
            " n)                             6)                                                                \n",
            "                                                                                                  \n",
            " block3_sepconv2 (SeparableConv  (None, 127, 127, 25  67840      ['block3_sepconv2_act[0][0]']    \n",
            " 2D)                            6)                                                                \n",
            "                                                                                                  \n",
            " block3_sepconv2_bn (BatchNorma  (None, 127, 127, 25  1024       ['block3_sepconv2[0][0]']        \n",
            " lization)                      6)                                                                \n",
            "                                                                                                  \n",
            " conv2d_1 (Conv2D)              (None, 64, 64, 256)  32768       ['add[0][0]']                    \n",
            "                                                                                                  \n",
            " block3_pool (MaxPooling2D)     (None, 64, 64, 256)  0           ['block3_sepconv2_bn[0][0]']     \n",
            "                                                                                                  \n",
            " batch_normalization_1 (BatchNo  (None, 64, 64, 256)  1024       ['conv2d_1[0][0]']               \n",
            " rmalization)                                                                                     \n",
            "                                                                                                  \n",
            " add_1 (Add)                    (None, 64, 64, 256)  0           ['block3_pool[0][0]',            \n",
            "                                                                  'batch_normalization_1[0][0]']  \n",
            "                                                                                                  \n",
            " block4_sepconv1_act (Activatio  (None, 64, 64, 256)  0          ['add_1[0][0]']                  \n",
            " n)                                                                                               \n",
            "                                                                                                  \n",
            " block4_sepconv1 (SeparableConv  (None, 64, 64, 728)  188672     ['block4_sepconv1_act[0][0]']    \n",
            " 2D)                                                                                              \n",
            "                                                                                                  \n",
            " block4_sepconv1_bn (BatchNorma  (None, 64, 64, 728)  2912       ['block4_sepconv1[0][0]']        \n",
            " lization)                                                                                        \n",
            "                                                                                                  \n",
            " block4_sepconv2_act (Activatio  (None, 64, 64, 728)  0          ['block4_sepconv1_bn[0][0]']     \n",
            " n)                                                                                               \n",
            "                                                                                                  \n",
            " block4_sepconv2 (SeparableConv  (None, 64, 64, 728)  536536     ['block4_sepconv2_act[0][0]']    \n",
            " 2D)                                                                                              \n",
            "                                                                                                  \n",
            " block4_sepconv2_bn (BatchNorma  (None, 64, 64, 728)  2912       ['block4_sepconv2[0][0]']        \n",
            " lization)                                                                                        \n",
            "                                                                                                  \n",
            " conv2d_2 (Conv2D)              (None, 32, 32, 728)  186368      ['add_1[0][0]']                  \n",
            "                                                                                                  \n",
            " block4_pool (MaxPooling2D)     (None, 32, 32, 728)  0           ['block4_sepconv2_bn[0][0]']     \n",
            "                                                                                                  \n",
            " batch_normalization_2 (BatchNo  (None, 32, 32, 728)  2912       ['conv2d_2[0][0]']               \n",
            " rmalization)                                                                                     \n",
            "                                                                                                  \n",
            " add_2 (Add)                    (None, 32, 32, 728)  0           ['block4_pool[0][0]',            \n",
            "                                                                  'batch_normalization_2[0][0]']  \n",
            "                                                                                                  \n",
            " block5_sepconv1_act (Activatio  (None, 32, 32, 728)  0          ['add_2[0][0]']                  \n",
            " n)                                                                                               \n",
            "                                                                                                  \n",
            " block5_sepconv1 (SeparableConv  (None, 32, 32, 728)  536536     ['block5_sepconv1_act[0][0]']    \n",
            " 2D)                                                                                              \n",
            "                                                                                                  \n",
            " block5_sepconv1_bn (BatchNorma  (None, 32, 32, 728)  2912       ['block5_sepconv1[0][0]']        \n",
            " lization)                                                                                        \n",
            "                                                                                                  \n",
            " block5_sepconv2_act (Activatio  (None, 32, 32, 728)  0          ['block5_sepconv1_bn[0][0]']     \n",
            " n)                                                                                               \n",
            "                                                                                                  \n",
            " block5_sepconv2 (SeparableConv  (None, 32, 32, 728)  536536     ['block5_sepconv2_act[0][0]']    \n",
            " 2D)                                                                                              \n",
            "                                                                                                  \n",
            " block5_sepconv2_bn (BatchNorma  (None, 32, 32, 728)  2912       ['block5_sepconv2[0][0]']        \n",
            " lization)                                                                                        \n",
            "                                                                                                  \n",
            " block5_sepconv3_act (Activatio  (None, 32, 32, 728)  0          ['block5_sepconv2_bn[0][0]']     \n",
            " n)                                                                                               \n",
            "                                                                                                  \n",
            " block5_sepconv3 (SeparableConv  (None, 32, 32, 728)  536536     ['block5_sepconv3_act[0][0]']    \n",
            " 2D)                                                                                              \n",
            "                                                                                                  \n",
            " block5_sepconv3_bn (BatchNorma  (None, 32, 32, 728)  2912       ['block5_sepconv3[0][0]']        \n",
            " lization)                                                                                        \n",
            "                                                                                                  \n",
            " add_3 (Add)                    (None, 32, 32, 728)  0           ['block5_sepconv3_bn[0][0]',     \n",
            "                                                                  'add_2[0][0]']                  \n",
            "                                                                                                  \n",
            " block6_sepconv1_act (Activatio  (None, 32, 32, 728)  0          ['add_3[0][0]']                  \n",
            " n)                                                                                               \n",
            "                                                                                                  \n",
            " block6_sepconv1 (SeparableConv  (None, 32, 32, 728)  536536     ['block6_sepconv1_act[0][0]']    \n",
            " 2D)                                                                                              \n",
            "                                                                                                  \n",
            " block6_sepconv1_bn (BatchNorma  (None, 32, 32, 728)  2912       ['block6_sepconv1[0][0]']        \n",
            " lization)                                                                                        \n",
            "                                                                                                  \n",
            " block6_sepconv2_act (Activatio  (None, 32, 32, 728)  0          ['block6_sepconv1_bn[0][0]']     \n",
            " n)                                                                                               \n",
            "                                                                                                  \n",
            " block6_sepconv2 (SeparableConv  (None, 32, 32, 728)  536536     ['block6_sepconv2_act[0][0]']    \n",
            " 2D)                                                                                              \n",
            "                                                                                                  \n",
            " block6_sepconv2_bn (BatchNorma  (None, 32, 32, 728)  2912       ['block6_sepconv2[0][0]']        \n",
            " lization)                                                                                        \n",
            "                                                                                                  \n",
            " block6_sepconv3_act (Activatio  (None, 32, 32, 728)  0          ['block6_sepconv2_bn[0][0]']     \n",
            " n)                                                                                               \n",
            "                                                                                                  \n",
            " block6_sepconv3 (SeparableConv  (None, 32, 32, 728)  536536     ['block6_sepconv3_act[0][0]']    \n",
            " 2D)                                                                                              \n",
            "                                                                                                  \n",
            " block6_sepconv3_bn (BatchNorma  (None, 32, 32, 728)  2912       ['block6_sepconv3[0][0]']        \n",
            " lization)                                                                                        \n",
            "                                                                                                  \n",
            " add_4 (Add)                    (None, 32, 32, 728)  0           ['block6_sepconv3_bn[0][0]',     \n",
            "                                                                  'add_3[0][0]']                  \n",
            "                                                                                                  \n",
            " block7_sepconv1_act (Activatio  (None, 32, 32, 728)  0          ['add_4[0][0]']                  \n",
            " n)                                                                                               \n",
            "                                                                                                  \n",
            " block7_sepconv1 (SeparableConv  (None, 32, 32, 728)  536536     ['block7_sepconv1_act[0][0]']    \n",
            " 2D)                                                                                              \n",
            "                                                                                                  \n",
            " block7_sepconv1_bn (BatchNorma  (None, 32, 32, 728)  2912       ['block7_sepconv1[0][0]']        \n",
            " lization)                                                                                        \n",
            "                                                                                                  \n",
            " block7_sepconv2_act (Activatio  (None, 32, 32, 728)  0          ['block7_sepconv1_bn[0][0]']     \n",
            " n)                                                                                               \n",
            "                                                                                                  \n",
            " block7_sepconv2 (SeparableConv  (None, 32, 32, 728)  536536     ['block7_sepconv2_act[0][0]']    \n",
            " 2D)                                                                                              \n",
            "                                                                                                  \n",
            " block7_sepconv2_bn (BatchNorma  (None, 32, 32, 728)  2912       ['block7_sepconv2[0][0]']        \n",
            " lization)                                                                                        \n",
            "                                                                                                  \n",
            " block7_sepconv3_act (Activatio  (None, 32, 32, 728)  0          ['block7_sepconv2_bn[0][0]']     \n",
            " n)                                                                                               \n",
            "                                                                                                  \n",
            " block7_sepconv3 (SeparableConv  (None, 32, 32, 728)  536536     ['block7_sepconv3_act[0][0]']    \n",
            " 2D)                                                                                              \n",
            "                                                                                                  \n",
            " block7_sepconv3_bn (BatchNorma  (None, 32, 32, 728)  2912       ['block7_sepconv3[0][0]']        \n",
            " lization)                                                                                        \n",
            "                                                                                                  \n",
            " add_5 (Add)                    (None, 32, 32, 728)  0           ['block7_sepconv3_bn[0][0]',     \n",
            "                                                                  'add_4[0][0]']                  \n",
            "                                                                                                  \n",
            " block8_sepconv1_act (Activatio  (None, 32, 32, 728)  0          ['add_5[0][0]']                  \n",
            " n)                                                                                               \n",
            "                                                                                                  \n",
            " block8_sepconv1 (SeparableConv  (None, 32, 32, 728)  536536     ['block8_sepconv1_act[0][0]']    \n",
            " 2D)                                                                                              \n",
            "                                                                                                  \n",
            " block8_sepconv1_bn (BatchNorma  (None, 32, 32, 728)  2912       ['block8_sepconv1[0][0]']        \n",
            " lization)                                                                                        \n",
            "                                                                                                  \n",
            " block8_sepconv2_act (Activatio  (None, 32, 32, 728)  0          ['block8_sepconv1_bn[0][0]']     \n",
            " n)                                                                                               \n",
            "                                                                                                  \n",
            " block8_sepconv2 (SeparableConv  (None, 32, 32, 728)  536536     ['block8_sepconv2_act[0][0]']    \n",
            " 2D)                                                                                              \n",
            "                                                                                                  \n",
            " block8_sepconv2_bn (BatchNorma  (None, 32, 32, 728)  2912       ['block8_sepconv2[0][0]']        \n",
            " lization)                                                                                        \n",
            "                                                                                                  \n",
            " block8_sepconv3_act (Activatio  (None, 32, 32, 728)  0          ['block8_sepconv2_bn[0][0]']     \n",
            " n)                                                                                               \n",
            "                                                                                                  \n",
            " block8_sepconv3 (SeparableConv  (None, 32, 32, 728)  536536     ['block8_sepconv3_act[0][0]']    \n",
            " 2D)                                                                                              \n",
            "                                                                                                  \n",
            " block8_sepconv3_bn (BatchNorma  (None, 32, 32, 728)  2912       ['block8_sepconv3[0][0]']        \n",
            " lization)                                                                                        \n",
            "                                                                                                  \n",
            " add_6 (Add)                    (None, 32, 32, 728)  0           ['block8_sepconv3_bn[0][0]',     \n",
            "                                                                  'add_5[0][0]']                  \n",
            "                                                                                                  \n",
            " block9_sepconv1_act (Activatio  (None, 32, 32, 728)  0          ['add_6[0][0]']                  \n",
            " n)                                                                                               \n",
            "                                                                                                  \n",
            " block9_sepconv1 (SeparableConv  (None, 32, 32, 728)  536536     ['block9_sepconv1_act[0][0]']    \n",
            " 2D)                                                                                              \n",
            "                                                                                                  \n",
            " block9_sepconv1_bn (BatchNorma  (None, 32, 32, 728)  2912       ['block9_sepconv1[0][0]']        \n",
            " lization)                                                                                        \n",
            "                                                                                                  \n",
            " block9_sepconv2_act (Activatio  (None, 32, 32, 728)  0          ['block9_sepconv1_bn[0][0]']     \n",
            " n)                                                                                               \n",
            "                                                                                                  \n",
            " block9_sepconv2 (SeparableConv  (None, 32, 32, 728)  536536     ['block9_sepconv2_act[0][0]']    \n",
            " 2D)                                                                                              \n",
            "                                                                                                  \n",
            " block9_sepconv2_bn (BatchNorma  (None, 32, 32, 728)  2912       ['block9_sepconv2[0][0]']        \n",
            " lization)                                                                                        \n",
            "                                                                                                  \n",
            " block9_sepconv3_act (Activatio  (None, 32, 32, 728)  0          ['block9_sepconv2_bn[0][0]']     \n",
            " n)                                                                                               \n",
            "                                                                                                  \n",
            " block9_sepconv3 (SeparableConv  (None, 32, 32, 728)  536536     ['block9_sepconv3_act[0][0]']    \n",
            " 2D)                                                                                              \n",
            "                                                                                                  \n",
            " block9_sepconv3_bn (BatchNorma  (None, 32, 32, 728)  2912       ['block9_sepconv3[0][0]']        \n",
            " lization)                                                                                        \n",
            "                                                                                                  \n",
            " add_7 (Add)                    (None, 32, 32, 728)  0           ['block9_sepconv3_bn[0][0]',     \n",
            "                                                                  'add_6[0][0]']                  \n",
            "                                                                                                  \n",
            " block10_sepconv1_act (Activati  (None, 32, 32, 728)  0          ['add_7[0][0]']                  \n",
            " on)                                                                                              \n",
            "                                                                                                  \n",
            " block10_sepconv1 (SeparableCon  (None, 32, 32, 728)  536536     ['block10_sepconv1_act[0][0]']   \n",
            " v2D)                                                                                             \n",
            "                                                                                                  \n",
            " block10_sepconv1_bn (BatchNorm  (None, 32, 32, 728)  2912       ['block10_sepconv1[0][0]']       \n",
            " alization)                                                                                       \n",
            "                                                                                                  \n",
            " block10_sepconv2_act (Activati  (None, 32, 32, 728)  0          ['block10_sepconv1_bn[0][0]']    \n",
            " on)                                                                                              \n",
            "                                                                                                  \n",
            " block10_sepconv2 (SeparableCon  (None, 32, 32, 728)  536536     ['block10_sepconv2_act[0][0]']   \n",
            " v2D)                                                                                             \n",
            "                                                                                                  \n",
            " block10_sepconv2_bn (BatchNorm  (None, 32, 32, 728)  2912       ['block10_sepconv2[0][0]']       \n",
            " alization)                                                                                       \n",
            "                                                                                                  \n",
            " block10_sepconv3_act (Activati  (None, 32, 32, 728)  0          ['block10_sepconv2_bn[0][0]']    \n",
            " on)                                                                                              \n",
            "                                                                                                  \n",
            " block10_sepconv3 (SeparableCon  (None, 32, 32, 728)  536536     ['block10_sepconv3_act[0][0]']   \n",
            " v2D)                                                                                             \n",
            "                                                                                                  \n",
            " block10_sepconv3_bn (BatchNorm  (None, 32, 32, 728)  2912       ['block10_sepconv3[0][0]']       \n",
            " alization)                                                                                       \n",
            "                                                                                                  \n",
            " add_8 (Add)                    (None, 32, 32, 728)  0           ['block10_sepconv3_bn[0][0]',    \n",
            "                                                                  'add_7[0][0]']                  \n",
            "                                                                                                  \n",
            " block11_sepconv1_act (Activati  (None, 32, 32, 728)  0          ['add_8[0][0]']                  \n",
            " on)                                                                                              \n",
            "                                                                                                  \n",
            " block11_sepconv1 (SeparableCon  (None, 32, 32, 728)  536536     ['block11_sepconv1_act[0][0]']   \n",
            " v2D)                                                                                             \n",
            "                                                                                                  \n",
            " block11_sepconv1_bn (BatchNorm  (None, 32, 32, 728)  2912       ['block11_sepconv1[0][0]']       \n",
            " alization)                                                                                       \n",
            "                                                                                                  \n",
            " block11_sepconv2_act (Activati  (None, 32, 32, 728)  0          ['block11_sepconv1_bn[0][0]']    \n",
            " on)                                                                                              \n",
            "                                                                                                  \n",
            " block11_sepconv2 (SeparableCon  (None, 32, 32, 728)  536536     ['block11_sepconv2_act[0][0]']   \n",
            " v2D)                                                                                             \n",
            "                                                                                                  \n",
            " block11_sepconv2_bn (BatchNorm  (None, 32, 32, 728)  2912       ['block11_sepconv2[0][0]']       \n",
            " alization)                                                                                       \n",
            "                                                                                                  \n",
            " block11_sepconv3_act (Activati  (None, 32, 32, 728)  0          ['block11_sepconv2_bn[0][0]']    \n",
            " on)                                                                                              \n",
            "                                                                                                  \n",
            " block11_sepconv3 (SeparableCon  (None, 32, 32, 728)  536536     ['block11_sepconv3_act[0][0]']   \n",
            " v2D)                                                                                             \n",
            "                                                                                                  \n",
            " block11_sepconv3_bn (BatchNorm  (None, 32, 32, 728)  2912       ['block11_sepconv3[0][0]']       \n",
            " alization)                                                                                       \n",
            "                                                                                                  \n",
            " add_9 (Add)                    (None, 32, 32, 728)  0           ['block11_sepconv3_bn[0][0]',    \n",
            "                                                                  'add_8[0][0]']                  \n",
            "                                                                                                  \n",
            " block12_sepconv1_act (Activati  (None, 32, 32, 728)  0          ['add_9[0][0]']                  \n",
            " on)                                                                                              \n",
            "                                                                                                  \n",
            " block12_sepconv1 (SeparableCon  (None, 32, 32, 728)  536536     ['block12_sepconv1_act[0][0]']   \n",
            " v2D)                                                                                             \n",
            "                                                                                                  \n",
            " block12_sepconv1_bn (BatchNorm  (None, 32, 32, 728)  2912       ['block12_sepconv1[0][0]']       \n",
            " alization)                                                                                       \n",
            "                                                                                                  \n",
            " block12_sepconv2_act (Activati  (None, 32, 32, 728)  0          ['block12_sepconv1_bn[0][0]']    \n",
            " on)                                                                                              \n",
            "                                                                                                  \n",
            " block12_sepconv2 (SeparableCon  (None, 32, 32, 728)  536536     ['block12_sepconv2_act[0][0]']   \n",
            " v2D)                                                                                             \n",
            "                                                                                                  \n",
            " block12_sepconv2_bn (BatchNorm  (None, 32, 32, 728)  2912       ['block12_sepconv2[0][0]']       \n",
            " alization)                                                                                       \n",
            "                                                                                                  \n",
            " block12_sepconv3_act (Activati  (None, 32, 32, 728)  0          ['block12_sepconv2_bn[0][0]']    \n",
            " on)                                                                                              \n",
            "                                                                                                  \n",
            " block12_sepconv3 (SeparableCon  (None, 32, 32, 728)  536536     ['block12_sepconv3_act[0][0]']   \n",
            " v2D)                                                                                             \n",
            "                                                                                                  \n",
            " block12_sepconv3_bn (BatchNorm  (None, 32, 32, 728)  2912       ['block12_sepconv3[0][0]']       \n",
            " alization)                                                                                       \n",
            "                                                                                                  \n",
            " add_10 (Add)                   (None, 32, 32, 728)  0           ['block12_sepconv3_bn[0][0]',    \n",
            "                                                                  'add_9[0][0]']                  \n",
            "                                                                                                  \n",
            " block13_sepconv1_act (Activati  (None, 32, 32, 728)  0          ['add_10[0][0]']                 \n",
            " on)                                                                                              \n",
            "                                                                                                  \n",
            " block13_sepconv1 (SeparableCon  (None, 32, 32, 728)  536536     ['block13_sepconv1_act[0][0]']   \n",
            " v2D)                                                                                             \n",
            "                                                                                                  \n",
            " block13_sepconv1_bn (BatchNorm  (None, 32, 32, 728)  2912       ['block13_sepconv1[0][0]']       \n",
            " alization)                                                                                       \n",
            "                                                                                                  \n",
            " block13_sepconv2_act (Activati  (None, 32, 32, 728)  0          ['block13_sepconv1_bn[0][0]']    \n",
            " on)                                                                                              \n",
            "                                                                                                  \n",
            " block13_sepconv2 (SeparableCon  (None, 32, 32, 1024  752024     ['block13_sepconv2_act[0][0]']   \n",
            " v2D)                           )                                                                 \n",
            "                                                                                                  \n",
            " block13_sepconv2_bn (BatchNorm  (None, 32, 32, 1024  4096       ['block13_sepconv2[0][0]']       \n",
            " alization)                     )                                                                 \n",
            "                                                                                                  \n",
            " conv2d_3 (Conv2D)              (None, 16, 16, 1024  745472      ['add_10[0][0]']                 \n",
            "                                )                                                                 \n",
            "                                                                                                  \n",
            " block13_pool (MaxPooling2D)    (None, 16, 16, 1024  0           ['block13_sepconv2_bn[0][0]']    \n",
            "                                )                                                                 \n",
            "                                                                                                  \n",
            " batch_normalization_3 (BatchNo  (None, 16, 16, 1024  4096       ['conv2d_3[0][0]']               \n",
            " rmalization)                   )                                                                 \n",
            "                                                                                                  \n",
            " add_11 (Add)                   (None, 16, 16, 1024  0           ['block13_pool[0][0]',           \n",
            "                                )                                 'batch_normalization_3[0][0]']  \n",
            "                                                                                                  \n",
            " block14_sepconv1 (SeparableCon  (None, 16, 16, 1536  1582080    ['add_11[0][0]']                 \n",
            " v2D)                           )                                                                 \n",
            "                                                                                                  \n",
            " block14_sepconv1_bn (BatchNorm  (None, 16, 16, 1536  6144       ['block14_sepconv1[0][0]']       \n",
            " alization)                     )                                                                 \n",
            "                                                                                                  \n",
            " block14_sepconv1_act (Activati  (None, 16, 16, 1536  0          ['block14_sepconv1_bn[0][0]']    \n",
            " on)                            )                                                                 \n",
            "                                                                                                  \n",
            " block14_sepconv2 (SeparableCon  (None, 16, 16, 2048  3159552    ['block14_sepconv1_act[0][0]']   \n",
            " v2D)                           )                                                                 \n",
            "                                                                                                  \n",
            " block14_sepconv2_bn (BatchNorm  (None, 16, 16, 2048  8192       ['block14_sepconv2[0][0]']       \n",
            " alization)                     )                                                                 \n",
            "                                                                                                  \n",
            " block14_sepconv2_act (Activati  (None, 16, 16, 2048  0          ['block14_sepconv2_bn[0][0]']    \n",
            " on)                            )                                                                 \n",
            "                                                                                                  \n",
            "==================================================================================================\n",
            "Total params: 20,861,480\n",
            "Trainable params: 20,806,952\n",
            "Non-trainable params: 54,528\n",
            "__________________________________________________________________________________________________\n"
          ]
        }
      ]
    },
    {
      "cell_type": "code",
      "source": [
        "for ix in range(len(model1.layers)):\n",
        "    print(ix,model1.layers[ix])"
      ],
      "metadata": {
        "colab": {
          "base_uri": "https://localhost:8080/"
        },
        "id": "OlGJ-feINDG3",
        "outputId": "6934fc7b-88bc-40b2-c8c7-b713f3c5d5fb"
      },
      "execution_count": null,
      "outputs": [
        {
          "output_type": "stream",
          "name": "stdout",
          "text": [
            "0 <keras.engine.input_layer.InputLayer object at 0x7fbde45ab990>\n",
            "1 <keras.layers.convolutional.Conv2D object at 0x7fbde45abe90>\n",
            "2 <keras.layers.normalization.batch_normalization.BatchNormalization object at 0x7fbde1040310>\n",
            "3 <keras.layers.core.activation.Activation object at 0x7fbde1048650>\n",
            "4 <keras.layers.convolutional.Conv2D object at 0x7fbde0bf94d0>\n",
            "5 <keras.layers.normalization.batch_normalization.BatchNormalization object at 0x7fbde0ba2b50>\n",
            "6 <keras.layers.core.activation.Activation object at 0x7fbde0ba71d0>\n",
            "7 <keras.layers.convolutional.SeparableConv2D object at 0x7fbde0bb4b90>\n",
            "8 <keras.layers.normalization.batch_normalization.BatchNormalization object at 0x7fbde0bbfa90>\n",
            "9 <keras.layers.core.activation.Activation object at 0x7fbde0bcafd0>\n",
            "10 <keras.layers.convolutional.SeparableConv2D object at 0x7fbde0bc4850>\n",
            "11 <keras.layers.normalization.batch_normalization.BatchNormalization object at 0x7fbde0ba7850>\n",
            "12 <keras.layers.convolutional.Conv2D object at 0x7fbde0bac350>\n",
            "13 <keras.layers.pooling.MaxPooling2D object at 0x7fbde0bf6110>\n",
            "14 <keras.layers.normalization.batch_normalization.BatchNormalization object at 0x7fbde0bbc390>\n",
            "15 <keras.layers.merge.Add object at 0x7fbde1048990>\n",
            "16 <keras.layers.core.activation.Activation object at 0x7fbde0b56190>\n",
            "17 <keras.layers.convolutional.SeparableConv2D object at 0x7fbde0b52bd0>\n",
            "18 <keras.layers.normalization.batch_normalization.BatchNormalization object at 0x7fbde0b6c090>\n",
            "19 <keras.layers.core.activation.Activation object at 0x7fbde0b68e10>\n",
            "20 <keras.layers.convolutional.SeparableConv2D object at 0x7fbde0b5e950>\n",
            "21 <keras.layers.normalization.batch_normalization.BatchNormalization object at 0x7fbde0b7c0d0>\n",
            "22 <keras.layers.convolutional.Conv2D object at 0x7fbde1094250>\n",
            "23 <keras.layers.pooling.MaxPooling2D object at 0x7fbde0b71850>\n",
            "24 <keras.layers.normalization.batch_normalization.BatchNormalization object at 0x7fbde0b55150>\n",
            "25 <keras.layers.merge.Add object at 0x7fbde0b82dd0>\n",
            "26 <keras.layers.core.activation.Activation object at 0x7fbde0b82e50>\n",
            "27 <keras.layers.convolutional.SeparableConv2D object at 0x7fbde0b85650>\n",
            "28 <keras.layers.normalization.batch_normalization.BatchNormalization object at 0x7fbde0b21190>\n",
            "29 <keras.layers.core.activation.Activation object at 0x7fbde0b17590>\n",
            "30 <keras.layers.convolutional.SeparableConv2D object at 0x7fbde0b852d0>\n",
            "31 <keras.layers.normalization.batch_normalization.BatchNormalization object at 0x7fbde0b30390>\n",
            "32 <keras.layers.convolutional.Conv2D object at 0x7fbde0b8ad50>\n",
            "33 <keras.layers.pooling.MaxPooling2D object at 0x7fbde0b25810>\n",
            "34 <keras.layers.normalization.batch_normalization.BatchNormalization object at 0x7fbde0b10610>\n",
            "35 <keras.layers.merge.Add object at 0x7fbde0b3a590>\n",
            "36 <keras.layers.core.activation.Activation object at 0x7fbde0b46550>\n",
            "37 <keras.layers.convolutional.SeparableConv2D object at 0x7fbde0b3e3d0>\n",
            "38 <keras.layers.normalization.batch_normalization.BatchNormalization object at 0x7fbde0b3e610>\n",
            "39 <keras.layers.core.activation.Activation object at 0x7fbde0b4dd10>\n",
            "40 <keras.layers.convolutional.SeparableConv2D object at 0x7fbde0ad7c10>\n",
            "41 <keras.layers.normalization.batch_normalization.BatchNormalization object at 0x7fbde0b4a050>\n",
            "42 <keras.layers.core.activation.Activation object at 0x7fbde0adad90>\n",
            "43 <keras.layers.convolutional.SeparableConv2D object at 0x7fbde0aeaa90>\n",
            "44 <keras.layers.normalization.batch_normalization.BatchNormalization object at 0x7fbde0ae5990>\n",
            "45 <keras.layers.merge.Add object at 0x7fbde0af06d0>\n",
            "46 <keras.layers.core.activation.Activation object at 0x7fbde0b3a890>\n",
            "47 <keras.layers.convolutional.SeparableConv2D object at 0x7fbde0af1ed0>\n",
            "48 <keras.layers.normalization.batch_normalization.BatchNormalization object at 0x7fbde0b4d350>\n",
            "49 <keras.layers.core.activation.Activation object at 0x7fbde0ad1fd0>\n",
            "50 <keras.layers.convolutional.SeparableConv2D object at 0x7fbde0b07750>\n",
            "51 <keras.layers.normalization.batch_normalization.BatchNormalization object at 0x7fbde0b3e490>\n",
            "52 <keras.layers.core.activation.Activation object at 0x7fbde0b17d50>\n",
            "53 <keras.layers.convolutional.SeparableConv2D object at 0x7fbde0b21350>\n",
            "54 <keras.layers.normalization.batch_normalization.BatchNormalization object at 0x7fbde0b82410>\n",
            "55 <keras.layers.merge.Add object at 0x7fbde10e1590>\n",
            "56 <keras.layers.core.activation.Activation object at 0x7fbde0af11d0>\n",
            "57 <keras.layers.convolutional.SeparableConv2D object at 0x7fbde0bf6910>\n",
            "58 <keras.layers.normalization.batch_normalization.BatchNormalization object at 0x7fbde0a98d10>\n",
            "59 <keras.layers.core.activation.Activation object at 0x7fbde0a9a250>\n",
            "60 <keras.layers.convolutional.SeparableConv2D object at 0x7fbde0a9a810>\n",
            "61 <keras.layers.normalization.batch_normalization.BatchNormalization object at 0x7fbde0bbcc50>\n",
            "62 <keras.layers.core.activation.Activation object at 0x7fbde0aa8dd0>\n",
            "63 <keras.layers.convolutional.SeparableConv2D object at 0x7fbde0aa4490>\n",
            "64 <keras.layers.normalization.batch_normalization.BatchNormalization object at 0x7fbde0ab2b10>\n",
            "65 <keras.layers.merge.Add object at 0x7fbde0abac10>\n",
            "66 <keras.layers.core.activation.Activation object at 0x7fbde0b55fd0>\n",
            "67 <keras.layers.convolutional.SeparableConv2D object at 0x7fbde0ac4ad0>\n",
            "68 <keras.layers.normalization.batch_normalization.BatchNormalization object at 0x7fbde0acd210>\n",
            "69 <keras.layers.core.activation.Activation object at 0x7fbde0ac4890>\n",
            "70 <keras.layers.convolutional.SeparableConv2D object at 0x7fbde0a56290>\n",
            "71 <keras.layers.normalization.batch_normalization.BatchNormalization object at 0x7fbde0a62190>\n",
            "72 <keras.layers.core.activation.Activation object at 0x7fbde0a58850>\n",
            "73 <keras.layers.convolutional.SeparableConv2D object at 0x7fbde0a56f50>\n",
            "74 <keras.layers.normalization.batch_normalization.BatchNormalization object at 0x7fbde0a77510>\n",
            "75 <keras.layers.merge.Add object at 0x7fbde0a56450>\n",
            "76 <keras.layers.core.activation.Activation object at 0x7fbde0ab6f50>\n",
            "77 <keras.layers.convolutional.SeparableConv2D object at 0x7fbde0a89550>\n",
            "78 <keras.layers.normalization.batch_normalization.BatchNormalization object at 0x7fbde0a89950>\n",
            "79 <keras.layers.core.activation.Activation object at 0x7fbde0a8eb10>\n",
            "80 <keras.layers.convolutional.SeparableConv2D object at 0x7fbde0a11650>\n",
            "81 <keras.layers.normalization.batch_normalization.BatchNormalization object at 0x7fbde0a18d50>\n",
            "82 <keras.layers.core.activation.Activation object at 0x7fbde0a1f850>\n",
            "83 <keras.layers.convolutional.SeparableConv2D object at 0x7fbde0a1b9d0>\n",
            "84 <keras.layers.normalization.batch_normalization.BatchNormalization object at 0x7fbde0a31a50>\n",
            "85 <keras.layers.merge.Add object at 0x7fbde0a35550>\n",
            "86 <keras.layers.core.activation.Activation object at 0x7fbde0a7c090>\n",
            "87 <keras.layers.convolutional.SeparableConv2D object at 0x7fbde0a44a10>\n",
            "88 <keras.layers.normalization.batch_normalization.BatchNormalization object at 0x7fbde0a3b7d0>\n",
            "89 <keras.layers.core.activation.Activation object at 0x7fbde0a1bc10>\n",
            "90 <keras.layers.convolutional.SeparableConv2D object at 0x7fbde0a70690>\n",
            "91 <keras.layers.normalization.batch_normalization.BatchNormalization object at 0x7fbde0a73490>\n",
            "92 <keras.layers.core.activation.Activation object at 0x7fbde0a6edd0>\n",
            "93 <keras.layers.convolutional.SeparableConv2D object at 0x7fbde0a775d0>\n",
            "94 <keras.layers.normalization.batch_normalization.BatchNormalization object at 0x7fbde0ab2210>\n",
            "95 <keras.layers.merge.Add object at 0x7fbde0a3b6d0>\n",
            "96 <keras.layers.core.activation.Activation object at 0x7fbde0a3b090>\n",
            "97 <keras.layers.convolutional.SeparableConv2D object at 0x7fbde0b7c690>\n",
            "98 <keras.layers.normalization.batch_normalization.BatchNormalization object at 0x7fbde0a92c50>\n",
            "99 <keras.layers.core.activation.Activation object at 0x7fbde0b55390>\n",
            "100 <keras.layers.convolutional.SeparableConv2D object at 0x7fbde0b25190>\n",
            "101 <keras.layers.normalization.batch_normalization.BatchNormalization object at 0x7fbde0b14650>\n",
            "102 <keras.layers.core.activation.Activation object at 0x7fbde0a4d590>\n",
            "103 <keras.layers.convolutional.SeparableConv2D object at 0x7fbde09d1a10>\n",
            "104 <keras.layers.normalization.batch_normalization.BatchNormalization object at 0x7fbde09d1110>\n",
            "105 <keras.layers.merge.Add object at 0x7fbde0b829d0>\n",
            "106 <keras.layers.core.activation.Activation object at 0x7fbde0a35150>\n",
            "107 <keras.layers.convolutional.SeparableConv2D object at 0x7fbde09db890>\n",
            "108 <keras.layers.normalization.batch_normalization.BatchNormalization object at 0x7fbde0a4d950>\n",
            "109 <keras.layers.core.activation.Activation object at 0x7fbde09ea050>\n",
            "110 <keras.layers.convolutional.SeparableConv2D object at 0x7fbde09ea7d0>\n",
            "111 <keras.layers.normalization.batch_normalization.BatchNormalization object at 0x7fbde09f1810>\n",
            "112 <keras.layers.core.activation.Activation object at 0x7fbde09f93d0>\n",
            "113 <keras.layers.convolutional.SeparableConv2D object at 0x7fbde09f9510>\n",
            "114 <keras.layers.normalization.batch_normalization.BatchNormalization object at 0x7fbde0a01dd0>\n",
            "115 <keras.layers.merge.Add object at 0x7fbde0a078d0>\n",
            "116 <keras.layers.core.activation.Activation object at 0x7fbde099e8d0>\n",
            "117 <keras.layers.convolutional.SeparableConv2D object at 0x7fbde09a3590>\n",
            "118 <keras.layers.normalization.batch_normalization.BatchNormalization object at 0x7fbde09ae2d0>\n",
            "119 <keras.layers.core.activation.Activation object at 0x7fbde09bb150>\n",
            "120 <keras.layers.convolutional.SeparableConv2D object at 0x7fbde09bbe10>\n",
            "121 <keras.layers.normalization.batch_normalization.BatchNormalization object at 0x7fbde09bf590>\n",
            "122 <keras.layers.convolutional.Conv2D object at 0x7fbde0991dd0>\n",
            "123 <keras.layers.pooling.MaxPooling2D object at 0x7fbde09ce410>\n",
            "124 <keras.layers.normalization.batch_normalization.BatchNormalization object at 0x7fbde0b93e90>\n",
            "125 <keras.layers.merge.Add object at 0x7fbde09c93d0>\n",
            "126 <keras.layers.convolutional.SeparableConv2D object at 0x7fbde09bb450>\n",
            "127 <keras.layers.normalization.batch_normalization.BatchNormalization object at 0x7fbde09abb10>\n",
            "128 <keras.layers.core.activation.Activation object at 0x7fbde09f5e10>\n",
            "129 <keras.layers.convolutional.SeparableConv2D object at 0x7fbde09fa750>\n",
            "130 <keras.layers.normalization.batch_normalization.BatchNormalization object at 0x7fbde09ea890>\n",
            "131 <keras.layers.core.activation.Activation object at 0x7fbde0a4ae90>\n"
          ]
        }
      ]
    },
    {
      "cell_type": "code",
      "source": [
        "for layer in model1.layers[:127]:\n",
        "    layer.trainable = False\n",
        "for i, layer in enumerate(model1.layers):\n",
        "    print(i, layer.name, layer.trainable)"
      ],
      "metadata": {
        "colab": {
          "base_uri": "https://localhost:8080/"
        },
        "id": "78GUvFnwMzrV",
        "outputId": "68c60986-a90d-49d6-9bac-362eec5db8b0"
      },
      "execution_count": null,
      "outputs": [
        {
          "output_type": "stream",
          "name": "stdout",
          "text": [
            "0 input_2 False\n",
            "1 block1_conv1 False\n",
            "2 block1_conv1_bn False\n",
            "3 block1_conv1_act False\n",
            "4 block1_conv2 False\n",
            "5 block1_conv2_bn False\n",
            "6 block1_conv2_act False\n",
            "7 block2_sepconv1 False\n",
            "8 block2_sepconv1_bn False\n",
            "9 block2_sepconv2_act False\n",
            "10 block2_sepconv2 False\n",
            "11 block2_sepconv2_bn False\n",
            "12 conv2d False\n",
            "13 block2_pool False\n",
            "14 batch_normalization False\n",
            "15 add False\n",
            "16 block3_sepconv1_act False\n",
            "17 block3_sepconv1 False\n",
            "18 block3_sepconv1_bn False\n",
            "19 block3_sepconv2_act False\n",
            "20 block3_sepconv2 False\n",
            "21 block3_sepconv2_bn False\n",
            "22 conv2d_1 False\n",
            "23 block3_pool False\n",
            "24 batch_normalization_1 False\n",
            "25 add_1 False\n",
            "26 block4_sepconv1_act False\n",
            "27 block4_sepconv1 False\n",
            "28 block4_sepconv1_bn False\n",
            "29 block4_sepconv2_act False\n",
            "30 block4_sepconv2 False\n",
            "31 block4_sepconv2_bn False\n",
            "32 conv2d_2 False\n",
            "33 block4_pool False\n",
            "34 batch_normalization_2 False\n",
            "35 add_2 False\n",
            "36 block5_sepconv1_act False\n",
            "37 block5_sepconv1 False\n",
            "38 block5_sepconv1_bn False\n",
            "39 block5_sepconv2_act False\n",
            "40 block5_sepconv2 False\n",
            "41 block5_sepconv2_bn False\n",
            "42 block5_sepconv3_act False\n",
            "43 block5_sepconv3 False\n",
            "44 block5_sepconv3_bn False\n",
            "45 add_3 False\n",
            "46 block6_sepconv1_act False\n",
            "47 block6_sepconv1 False\n",
            "48 block6_sepconv1_bn False\n",
            "49 block6_sepconv2_act False\n",
            "50 block6_sepconv2 False\n",
            "51 block6_sepconv2_bn False\n",
            "52 block6_sepconv3_act False\n",
            "53 block6_sepconv3 False\n",
            "54 block6_sepconv3_bn False\n",
            "55 add_4 False\n",
            "56 block7_sepconv1_act False\n",
            "57 block7_sepconv1 False\n",
            "58 block7_sepconv1_bn False\n",
            "59 block7_sepconv2_act False\n",
            "60 block7_sepconv2 False\n",
            "61 block7_sepconv2_bn False\n",
            "62 block7_sepconv3_act False\n",
            "63 block7_sepconv3 False\n",
            "64 block7_sepconv3_bn False\n",
            "65 add_5 False\n",
            "66 block8_sepconv1_act False\n",
            "67 block8_sepconv1 False\n",
            "68 block8_sepconv1_bn False\n",
            "69 block8_sepconv2_act False\n",
            "70 block8_sepconv2 False\n",
            "71 block8_sepconv2_bn False\n",
            "72 block8_sepconv3_act False\n",
            "73 block8_sepconv3 False\n",
            "74 block8_sepconv3_bn False\n",
            "75 add_6 False\n",
            "76 block9_sepconv1_act False\n",
            "77 block9_sepconv1 False\n",
            "78 block9_sepconv1_bn False\n",
            "79 block9_sepconv2_act False\n",
            "80 block9_sepconv2 False\n",
            "81 block9_sepconv2_bn False\n",
            "82 block9_sepconv3_act False\n",
            "83 block9_sepconv3 False\n",
            "84 block9_sepconv3_bn False\n",
            "85 add_7 False\n",
            "86 block10_sepconv1_act False\n",
            "87 block10_sepconv1 False\n",
            "88 block10_sepconv1_bn False\n",
            "89 block10_sepconv2_act False\n",
            "90 block10_sepconv2 False\n",
            "91 block10_sepconv2_bn False\n",
            "92 block10_sepconv3_act False\n",
            "93 block10_sepconv3 False\n",
            "94 block10_sepconv3_bn False\n",
            "95 add_8 False\n",
            "96 block11_sepconv1_act False\n",
            "97 block11_sepconv1 False\n",
            "98 block11_sepconv1_bn False\n",
            "99 block11_sepconv2_act False\n",
            "100 block11_sepconv2 False\n",
            "101 block11_sepconv2_bn False\n",
            "102 block11_sepconv3_act False\n",
            "103 block11_sepconv3 False\n",
            "104 block11_sepconv3_bn False\n",
            "105 add_9 False\n",
            "106 block12_sepconv1_act False\n",
            "107 block12_sepconv1 False\n",
            "108 block12_sepconv1_bn False\n",
            "109 block12_sepconv2_act False\n",
            "110 block12_sepconv2 False\n",
            "111 block12_sepconv2_bn False\n",
            "112 block12_sepconv3_act False\n",
            "113 block12_sepconv3 False\n",
            "114 block12_sepconv3_bn False\n",
            "115 add_10 False\n",
            "116 block13_sepconv1_act False\n",
            "117 block13_sepconv1 False\n",
            "118 block13_sepconv1_bn False\n",
            "119 block13_sepconv2_act False\n",
            "120 block13_sepconv2 False\n",
            "121 block13_sepconv2_bn False\n",
            "122 conv2d_3 False\n",
            "123 block13_pool False\n",
            "124 batch_normalization_3 False\n",
            "125 add_11 False\n",
            "126 block14_sepconv1 False\n",
            "127 block14_sepconv1_bn True\n",
            "128 block14_sepconv1_act True\n",
            "129 block14_sepconv2 True\n",
            "130 block14_sepconv2_bn True\n",
            "131 block14_sepconv2_act True\n"
          ]
        }
      ]
    },
    {
      "cell_type": "code",
      "source": [
        "av1 = Flatten()(model1.output)\n",
        "fc1 = Dense(256,activation='relu',kernel_regularizer= l2(0.01),input_dim=256)(av1)\n",
        "d1 = Dropout(0.5)(fc1)\n",
        "fc2 = Dense(128,activation='relu',kernel_regularizer= l2(0.01),input_dim=128)(d1)\n",
        "d2 = Dropout(0.5)(fc2)\n",
        "fc3 = Dense(2,activation = 'sigmoid')(d2)\n",
        "\n",
        "\n",
        "model_x = Model(model1.input,fc3)\n",
        "model_x.summary()"
      ],
      "metadata": {
        "colab": {
          "base_uri": "https://localhost:8080/"
        },
        "id": "V81_DiBpNbXD",
        "outputId": "e80de250-bf5c-411a-e683-8def79619b53"
      },
      "execution_count": null,
      "outputs": [
        {
          "output_type": "stream",
          "name": "stdout",
          "text": [
            "Model: \"model_1\"\n",
            "__________________________________________________________________________________________________\n",
            " Layer (type)                   Output Shape         Param #     Connected to                     \n",
            "==================================================================================================\n",
            " input_2 (InputLayer)           [(None, 512, 512, 3  0           []                               \n",
            "                                )]                                                                \n",
            "                                                                                                  \n",
            " block1_conv1 (Conv2D)          (None, 255, 255, 32  864         ['input_2[0][0]']                \n",
            "                                )                                                                 \n",
            "                                                                                                  \n",
            " block1_conv1_bn (BatchNormaliz  (None, 255, 255, 32  128        ['block1_conv1[0][0]']           \n",
            " ation)                         )                                                                 \n",
            "                                                                                                  \n",
            " block1_conv1_act (Activation)  (None, 255, 255, 32  0           ['block1_conv1_bn[0][0]']        \n",
            "                                )                                                                 \n",
            "                                                                                                  \n",
            " block1_conv2 (Conv2D)          (None, 253, 253, 64  18432       ['block1_conv1_act[0][0]']       \n",
            "                                )                                                                 \n",
            "                                                                                                  \n",
            " block1_conv2_bn (BatchNormaliz  (None, 253, 253, 64  256        ['block1_conv2[0][0]']           \n",
            " ation)                         )                                                                 \n",
            "                                                                                                  \n",
            " block1_conv2_act (Activation)  (None, 253, 253, 64  0           ['block1_conv2_bn[0][0]']        \n",
            "                                )                                                                 \n",
            "                                                                                                  \n",
            " block2_sepconv1 (SeparableConv  (None, 253, 253, 12  8768       ['block1_conv2_act[0][0]']       \n",
            " 2D)                            8)                                                                \n",
            "                                                                                                  \n",
            " block2_sepconv1_bn (BatchNorma  (None, 253, 253, 12  512        ['block2_sepconv1[0][0]']        \n",
            " lization)                      8)                                                                \n",
            "                                                                                                  \n",
            " block2_sepconv2_act (Activatio  (None, 253, 253, 12  0          ['block2_sepconv1_bn[0][0]']     \n",
            " n)                             8)                                                                \n",
            "                                                                                                  \n",
            " block2_sepconv2 (SeparableConv  (None, 253, 253, 12  17536      ['block2_sepconv2_act[0][0]']    \n",
            " 2D)                            8)                                                                \n",
            "                                                                                                  \n",
            " block2_sepconv2_bn (BatchNorma  (None, 253, 253, 12  512        ['block2_sepconv2[0][0]']        \n",
            " lization)                      8)                                                                \n",
            "                                                                                                  \n",
            " conv2d (Conv2D)                (None, 127, 127, 12  8192        ['block1_conv2_act[0][0]']       \n",
            "                                8)                                                                \n",
            "                                                                                                  \n",
            " block2_pool (MaxPooling2D)     (None, 127, 127, 12  0           ['block2_sepconv2_bn[0][0]']     \n",
            "                                8)                                                                \n",
            "                                                                                                  \n",
            " batch_normalization (BatchNorm  (None, 127, 127, 12  512        ['conv2d[0][0]']                 \n",
            " alization)                     8)                                                                \n",
            "                                                                                                  \n",
            " add (Add)                      (None, 127, 127, 12  0           ['block2_pool[0][0]',            \n",
            "                                8)                                'batch_normalization[0][0]']    \n",
            "                                                                                                  \n",
            " block3_sepconv1_act (Activatio  (None, 127, 127, 12  0          ['add[0][0]']                    \n",
            " n)                             8)                                                                \n",
            "                                                                                                  \n",
            " block3_sepconv1 (SeparableConv  (None, 127, 127, 25  33920      ['block3_sepconv1_act[0][0]']    \n",
            " 2D)                            6)                                                                \n",
            "                                                                                                  \n",
            " block3_sepconv1_bn (BatchNorma  (None, 127, 127, 25  1024       ['block3_sepconv1[0][0]']        \n",
            " lization)                      6)                                                                \n",
            "                                                                                                  \n",
            " block3_sepconv2_act (Activatio  (None, 127, 127, 25  0          ['block3_sepconv1_bn[0][0]']     \n",
            " n)                             6)                                                                \n",
            "                                                                                                  \n",
            " block3_sepconv2 (SeparableConv  (None, 127, 127, 25  67840      ['block3_sepconv2_act[0][0]']    \n",
            " 2D)                            6)                                                                \n",
            "                                                                                                  \n",
            " block3_sepconv2_bn (BatchNorma  (None, 127, 127, 25  1024       ['block3_sepconv2[0][0]']        \n",
            " lization)                      6)                                                                \n",
            "                                                                                                  \n",
            " conv2d_1 (Conv2D)              (None, 64, 64, 256)  32768       ['add[0][0]']                    \n",
            "                                                                                                  \n",
            " block3_pool (MaxPooling2D)     (None, 64, 64, 256)  0           ['block3_sepconv2_bn[0][0]']     \n",
            "                                                                                                  \n",
            " batch_normalization_1 (BatchNo  (None, 64, 64, 256)  1024       ['conv2d_1[0][0]']               \n",
            " rmalization)                                                                                     \n",
            "                                                                                                  \n",
            " add_1 (Add)                    (None, 64, 64, 256)  0           ['block3_pool[0][0]',            \n",
            "                                                                  'batch_normalization_1[0][0]']  \n",
            "                                                                                                  \n",
            " block4_sepconv1_act (Activatio  (None, 64, 64, 256)  0          ['add_1[0][0]']                  \n",
            " n)                                                                                               \n",
            "                                                                                                  \n",
            " block4_sepconv1 (SeparableConv  (None, 64, 64, 728)  188672     ['block4_sepconv1_act[0][0]']    \n",
            " 2D)                                                                                              \n",
            "                                                                                                  \n",
            " block4_sepconv1_bn (BatchNorma  (None, 64, 64, 728)  2912       ['block4_sepconv1[0][0]']        \n",
            " lization)                                                                                        \n",
            "                                                                                                  \n",
            " block4_sepconv2_act (Activatio  (None, 64, 64, 728)  0          ['block4_sepconv1_bn[0][0]']     \n",
            " n)                                                                                               \n",
            "                                                                                                  \n",
            " block4_sepconv2 (SeparableConv  (None, 64, 64, 728)  536536     ['block4_sepconv2_act[0][0]']    \n",
            " 2D)                                                                                              \n",
            "                                                                                                  \n",
            " block4_sepconv2_bn (BatchNorma  (None, 64, 64, 728)  2912       ['block4_sepconv2[0][0]']        \n",
            " lization)                                                                                        \n",
            "                                                                                                  \n",
            " conv2d_2 (Conv2D)              (None, 32, 32, 728)  186368      ['add_1[0][0]']                  \n",
            "                                                                                                  \n",
            " block4_pool (MaxPooling2D)     (None, 32, 32, 728)  0           ['block4_sepconv2_bn[0][0]']     \n",
            "                                                                                                  \n",
            " batch_normalization_2 (BatchNo  (None, 32, 32, 728)  2912       ['conv2d_2[0][0]']               \n",
            " rmalization)                                                                                     \n",
            "                                                                                                  \n",
            " add_2 (Add)                    (None, 32, 32, 728)  0           ['block4_pool[0][0]',            \n",
            "                                                                  'batch_normalization_2[0][0]']  \n",
            "                                                                                                  \n",
            " block5_sepconv1_act (Activatio  (None, 32, 32, 728)  0          ['add_2[0][0]']                  \n",
            " n)                                                                                               \n",
            "                                                                                                  \n",
            " block5_sepconv1 (SeparableConv  (None, 32, 32, 728)  536536     ['block5_sepconv1_act[0][0]']    \n",
            " 2D)                                                                                              \n",
            "                                                                                                  \n",
            " block5_sepconv1_bn (BatchNorma  (None, 32, 32, 728)  2912       ['block5_sepconv1[0][0]']        \n",
            " lization)                                                                                        \n",
            "                                                                                                  \n",
            " block5_sepconv2_act (Activatio  (None, 32, 32, 728)  0          ['block5_sepconv1_bn[0][0]']     \n",
            " n)                                                                                               \n",
            "                                                                                                  \n",
            " block5_sepconv2 (SeparableConv  (None, 32, 32, 728)  536536     ['block5_sepconv2_act[0][0]']    \n",
            " 2D)                                                                                              \n",
            "                                                                                                  \n",
            " block5_sepconv2_bn (BatchNorma  (None, 32, 32, 728)  2912       ['block5_sepconv2[0][0]']        \n",
            " lization)                                                                                        \n",
            "                                                                                                  \n",
            " block5_sepconv3_act (Activatio  (None, 32, 32, 728)  0          ['block5_sepconv2_bn[0][0]']     \n",
            " n)                                                                                               \n",
            "                                                                                                  \n",
            " block5_sepconv3 (SeparableConv  (None, 32, 32, 728)  536536     ['block5_sepconv3_act[0][0]']    \n",
            " 2D)                                                                                              \n",
            "                                                                                                  \n",
            " block5_sepconv3_bn (BatchNorma  (None, 32, 32, 728)  2912       ['block5_sepconv3[0][0]']        \n",
            " lization)                                                                                        \n",
            "                                                                                                  \n",
            " add_3 (Add)                    (None, 32, 32, 728)  0           ['block5_sepconv3_bn[0][0]',     \n",
            "                                                                  'add_2[0][0]']                  \n",
            "                                                                                                  \n",
            " block6_sepconv1_act (Activatio  (None, 32, 32, 728)  0          ['add_3[0][0]']                  \n",
            " n)                                                                                               \n",
            "                                                                                                  \n",
            " block6_sepconv1 (SeparableConv  (None, 32, 32, 728)  536536     ['block6_sepconv1_act[0][0]']    \n",
            " 2D)                                                                                              \n",
            "                                                                                                  \n",
            " block6_sepconv1_bn (BatchNorma  (None, 32, 32, 728)  2912       ['block6_sepconv1[0][0]']        \n",
            " lization)                                                                                        \n",
            "                                                                                                  \n",
            " block6_sepconv2_act (Activatio  (None, 32, 32, 728)  0          ['block6_sepconv1_bn[0][0]']     \n",
            " n)                                                                                               \n",
            "                                                                                                  \n",
            " block6_sepconv2 (SeparableConv  (None, 32, 32, 728)  536536     ['block6_sepconv2_act[0][0]']    \n",
            " 2D)                                                                                              \n",
            "                                                                                                  \n",
            " block6_sepconv2_bn (BatchNorma  (None, 32, 32, 728)  2912       ['block6_sepconv2[0][0]']        \n",
            " lization)                                                                                        \n",
            "                                                                                                  \n",
            " block6_sepconv3_act (Activatio  (None, 32, 32, 728)  0          ['block6_sepconv2_bn[0][0]']     \n",
            " n)                                                                                               \n",
            "                                                                                                  \n",
            " block6_sepconv3 (SeparableConv  (None, 32, 32, 728)  536536     ['block6_sepconv3_act[0][0]']    \n",
            " 2D)                                                                                              \n",
            "                                                                                                  \n",
            " block6_sepconv3_bn (BatchNorma  (None, 32, 32, 728)  2912       ['block6_sepconv3[0][0]']        \n",
            " lization)                                                                                        \n",
            "                                                                                                  \n",
            " add_4 (Add)                    (None, 32, 32, 728)  0           ['block6_sepconv3_bn[0][0]',     \n",
            "                                                                  'add_3[0][0]']                  \n",
            "                                                                                                  \n",
            " block7_sepconv1_act (Activatio  (None, 32, 32, 728)  0          ['add_4[0][0]']                  \n",
            " n)                                                                                               \n",
            "                                                                                                  \n",
            " block7_sepconv1 (SeparableConv  (None, 32, 32, 728)  536536     ['block7_sepconv1_act[0][0]']    \n",
            " 2D)                                                                                              \n",
            "                                                                                                  \n",
            " block7_sepconv1_bn (BatchNorma  (None, 32, 32, 728)  2912       ['block7_sepconv1[0][0]']        \n",
            " lization)                                                                                        \n",
            "                                                                                                  \n",
            " block7_sepconv2_act (Activatio  (None, 32, 32, 728)  0          ['block7_sepconv1_bn[0][0]']     \n",
            " n)                                                                                               \n",
            "                                                                                                  \n",
            " block7_sepconv2 (SeparableConv  (None, 32, 32, 728)  536536     ['block7_sepconv2_act[0][0]']    \n",
            " 2D)                                                                                              \n",
            "                                                                                                  \n",
            " block7_sepconv2_bn (BatchNorma  (None, 32, 32, 728)  2912       ['block7_sepconv2[0][0]']        \n",
            " lization)                                                                                        \n",
            "                                                                                                  \n",
            " block7_sepconv3_act (Activatio  (None, 32, 32, 728)  0          ['block7_sepconv2_bn[0][0]']     \n",
            " n)                                                                                               \n",
            "                                                                                                  \n",
            " block7_sepconv3 (SeparableConv  (None, 32, 32, 728)  536536     ['block7_sepconv3_act[0][0]']    \n",
            " 2D)                                                                                              \n",
            "                                                                                                  \n",
            " block7_sepconv3_bn (BatchNorma  (None, 32, 32, 728)  2912       ['block7_sepconv3[0][0]']        \n",
            " lization)                                                                                        \n",
            "                                                                                                  \n",
            " add_5 (Add)                    (None, 32, 32, 728)  0           ['block7_sepconv3_bn[0][0]',     \n",
            "                                                                  'add_4[0][0]']                  \n",
            "                                                                                                  \n",
            " block8_sepconv1_act (Activatio  (None, 32, 32, 728)  0          ['add_5[0][0]']                  \n",
            " n)                                                                                               \n",
            "                                                                                                  \n",
            " block8_sepconv1 (SeparableConv  (None, 32, 32, 728)  536536     ['block8_sepconv1_act[0][0]']    \n",
            " 2D)                                                                                              \n",
            "                                                                                                  \n",
            " block8_sepconv1_bn (BatchNorma  (None, 32, 32, 728)  2912       ['block8_sepconv1[0][0]']        \n",
            " lization)                                                                                        \n",
            "                                                                                                  \n",
            " block8_sepconv2_act (Activatio  (None, 32, 32, 728)  0          ['block8_sepconv1_bn[0][0]']     \n",
            " n)                                                                                               \n",
            "                                                                                                  \n",
            " block8_sepconv2 (SeparableConv  (None, 32, 32, 728)  536536     ['block8_sepconv2_act[0][0]']    \n",
            " 2D)                                                                                              \n",
            "                                                                                                  \n",
            " block8_sepconv2_bn (BatchNorma  (None, 32, 32, 728)  2912       ['block8_sepconv2[0][0]']        \n",
            " lization)                                                                                        \n",
            "                                                                                                  \n",
            " block8_sepconv3_act (Activatio  (None, 32, 32, 728)  0          ['block8_sepconv2_bn[0][0]']     \n",
            " n)                                                                                               \n",
            "                                                                                                  \n",
            " block8_sepconv3 (SeparableConv  (None, 32, 32, 728)  536536     ['block8_sepconv3_act[0][0]']    \n",
            " 2D)                                                                                              \n",
            "                                                                                                  \n",
            " block8_sepconv3_bn (BatchNorma  (None, 32, 32, 728)  2912       ['block8_sepconv3[0][0]']        \n",
            " lization)                                                                                        \n",
            "                                                                                                  \n",
            " add_6 (Add)                    (None, 32, 32, 728)  0           ['block8_sepconv3_bn[0][0]',     \n",
            "                                                                  'add_5[0][0]']                  \n",
            "                                                                                                  \n",
            " block9_sepconv1_act (Activatio  (None, 32, 32, 728)  0          ['add_6[0][0]']                  \n",
            " n)                                                                                               \n",
            "                                                                                                  \n",
            " block9_sepconv1 (SeparableConv  (None, 32, 32, 728)  536536     ['block9_sepconv1_act[0][0]']    \n",
            " 2D)                                                                                              \n",
            "                                                                                                  \n",
            " block9_sepconv1_bn (BatchNorma  (None, 32, 32, 728)  2912       ['block9_sepconv1[0][0]']        \n",
            " lization)                                                                                        \n",
            "                                                                                                  \n",
            " block9_sepconv2_act (Activatio  (None, 32, 32, 728)  0          ['block9_sepconv1_bn[0][0]']     \n",
            " n)                                                                                               \n",
            "                                                                                                  \n",
            " block9_sepconv2 (SeparableConv  (None, 32, 32, 728)  536536     ['block9_sepconv2_act[0][0]']    \n",
            " 2D)                                                                                              \n",
            "                                                                                                  \n",
            " block9_sepconv2_bn (BatchNorma  (None, 32, 32, 728)  2912       ['block9_sepconv2[0][0]']        \n",
            " lization)                                                                                        \n",
            "                                                                                                  \n",
            " block9_sepconv3_act (Activatio  (None, 32, 32, 728)  0          ['block9_sepconv2_bn[0][0]']     \n",
            " n)                                                                                               \n",
            "                                                                                                  \n",
            " block9_sepconv3 (SeparableConv  (None, 32, 32, 728)  536536     ['block9_sepconv3_act[0][0]']    \n",
            " 2D)                                                                                              \n",
            "                                                                                                  \n",
            " block9_sepconv3_bn (BatchNorma  (None, 32, 32, 728)  2912       ['block9_sepconv3[0][0]']        \n",
            " lization)                                                                                        \n",
            "                                                                                                  \n",
            " add_7 (Add)                    (None, 32, 32, 728)  0           ['block9_sepconv3_bn[0][0]',     \n",
            "                                                                  'add_6[0][0]']                  \n",
            "                                                                                                  \n",
            " block10_sepconv1_act (Activati  (None, 32, 32, 728)  0          ['add_7[0][0]']                  \n",
            " on)                                                                                              \n",
            "                                                                                                  \n",
            " block10_sepconv1 (SeparableCon  (None, 32, 32, 728)  536536     ['block10_sepconv1_act[0][0]']   \n",
            " v2D)                                                                                             \n",
            "                                                                                                  \n",
            " block10_sepconv1_bn (BatchNorm  (None, 32, 32, 728)  2912       ['block10_sepconv1[0][0]']       \n",
            " alization)                                                                                       \n",
            "                                                                                                  \n",
            " block10_sepconv2_act (Activati  (None, 32, 32, 728)  0          ['block10_sepconv1_bn[0][0]']    \n",
            " on)                                                                                              \n",
            "                                                                                                  \n",
            " block10_sepconv2 (SeparableCon  (None, 32, 32, 728)  536536     ['block10_sepconv2_act[0][0]']   \n",
            " v2D)                                                                                             \n",
            "                                                                                                  \n",
            " block10_sepconv2_bn (BatchNorm  (None, 32, 32, 728)  2912       ['block10_sepconv2[0][0]']       \n",
            " alization)                                                                                       \n",
            "                                                                                                  \n",
            " block10_sepconv3_act (Activati  (None, 32, 32, 728)  0          ['block10_sepconv2_bn[0][0]']    \n",
            " on)                                                                                              \n",
            "                                                                                                  \n",
            " block10_sepconv3 (SeparableCon  (None, 32, 32, 728)  536536     ['block10_sepconv3_act[0][0]']   \n",
            " v2D)                                                                                             \n",
            "                                                                                                  \n",
            " block10_sepconv3_bn (BatchNorm  (None, 32, 32, 728)  2912       ['block10_sepconv3[0][0]']       \n",
            " alization)                                                                                       \n",
            "                                                                                                  \n",
            " add_8 (Add)                    (None, 32, 32, 728)  0           ['block10_sepconv3_bn[0][0]',    \n",
            "                                                                  'add_7[0][0]']                  \n",
            "                                                                                                  \n",
            " block11_sepconv1_act (Activati  (None, 32, 32, 728)  0          ['add_8[0][0]']                  \n",
            " on)                                                                                              \n",
            "                                                                                                  \n",
            " block11_sepconv1 (SeparableCon  (None, 32, 32, 728)  536536     ['block11_sepconv1_act[0][0]']   \n",
            " v2D)                                                                                             \n",
            "                                                                                                  \n",
            " block11_sepconv1_bn (BatchNorm  (None, 32, 32, 728)  2912       ['block11_sepconv1[0][0]']       \n",
            " alization)                                                                                       \n",
            "                                                                                                  \n",
            " block11_sepconv2_act (Activati  (None, 32, 32, 728)  0          ['block11_sepconv1_bn[0][0]']    \n",
            " on)                                                                                              \n",
            "                                                                                                  \n",
            " block11_sepconv2 (SeparableCon  (None, 32, 32, 728)  536536     ['block11_sepconv2_act[0][0]']   \n",
            " v2D)                                                                                             \n",
            "                                                                                                  \n",
            " block11_sepconv2_bn (BatchNorm  (None, 32, 32, 728)  2912       ['block11_sepconv2[0][0]']       \n",
            " alization)                                                                                       \n",
            "                                                                                                  \n",
            " block11_sepconv3_act (Activati  (None, 32, 32, 728)  0          ['block11_sepconv2_bn[0][0]']    \n",
            " on)                                                                                              \n",
            "                                                                                                  \n",
            " block11_sepconv3 (SeparableCon  (None, 32, 32, 728)  536536     ['block11_sepconv3_act[0][0]']   \n",
            " v2D)                                                                                             \n",
            "                                                                                                  \n",
            " block11_sepconv3_bn (BatchNorm  (None, 32, 32, 728)  2912       ['block11_sepconv3[0][0]']       \n",
            " alization)                                                                                       \n",
            "                                                                                                  \n",
            " add_9 (Add)                    (None, 32, 32, 728)  0           ['block11_sepconv3_bn[0][0]',    \n",
            "                                                                  'add_8[0][0]']                  \n",
            "                                                                                                  \n",
            " block12_sepconv1_act (Activati  (None, 32, 32, 728)  0          ['add_9[0][0]']                  \n",
            " on)                                                                                              \n",
            "                                                                                                  \n",
            " block12_sepconv1 (SeparableCon  (None, 32, 32, 728)  536536     ['block12_sepconv1_act[0][0]']   \n",
            " v2D)                                                                                             \n",
            "                                                                                                  \n",
            " block12_sepconv1_bn (BatchNorm  (None, 32, 32, 728)  2912       ['block12_sepconv1[0][0]']       \n",
            " alization)                                                                                       \n",
            "                                                                                                  \n",
            " block12_sepconv2_act (Activati  (None, 32, 32, 728)  0          ['block12_sepconv1_bn[0][0]']    \n",
            " on)                                                                                              \n",
            "                                                                                                  \n",
            " block12_sepconv2 (SeparableCon  (None, 32, 32, 728)  536536     ['block12_sepconv2_act[0][0]']   \n",
            " v2D)                                                                                             \n",
            "                                                                                                  \n",
            " block12_sepconv2_bn (BatchNorm  (None, 32, 32, 728)  2912       ['block12_sepconv2[0][0]']       \n",
            " alization)                                                                                       \n",
            "                                                                                                  \n",
            " block12_sepconv3_act (Activati  (None, 32, 32, 728)  0          ['block12_sepconv2_bn[0][0]']    \n",
            " on)                                                                                              \n",
            "                                                                                                  \n",
            " block12_sepconv3 (SeparableCon  (None, 32, 32, 728)  536536     ['block12_sepconv3_act[0][0]']   \n",
            " v2D)                                                                                             \n",
            "                                                                                                  \n",
            " block12_sepconv3_bn (BatchNorm  (None, 32, 32, 728)  2912       ['block12_sepconv3[0][0]']       \n",
            " alization)                                                                                       \n",
            "                                                                                                  \n",
            " add_10 (Add)                   (None, 32, 32, 728)  0           ['block12_sepconv3_bn[0][0]',    \n",
            "                                                                  'add_9[0][0]']                  \n",
            "                                                                                                  \n",
            " block13_sepconv1_act (Activati  (None, 32, 32, 728)  0          ['add_10[0][0]']                 \n",
            " on)                                                                                              \n",
            "                                                                                                  \n",
            " block13_sepconv1 (SeparableCon  (None, 32, 32, 728)  536536     ['block13_sepconv1_act[0][0]']   \n",
            " v2D)                                                                                             \n",
            "                                                                                                  \n",
            " block13_sepconv1_bn (BatchNorm  (None, 32, 32, 728)  2912       ['block13_sepconv1[0][0]']       \n",
            " alization)                                                                                       \n",
            "                                                                                                  \n",
            " block13_sepconv2_act (Activati  (None, 32, 32, 728)  0          ['block13_sepconv1_bn[0][0]']    \n",
            " on)                                                                                              \n",
            "                                                                                                  \n",
            " block13_sepconv2 (SeparableCon  (None, 32, 32, 1024  752024     ['block13_sepconv2_act[0][0]']   \n",
            " v2D)                           )                                                                 \n",
            "                                                                                                  \n",
            " block13_sepconv2_bn (BatchNorm  (None, 32, 32, 1024  4096       ['block13_sepconv2[0][0]']       \n",
            " alization)                     )                                                                 \n",
            "                                                                                                  \n",
            " conv2d_3 (Conv2D)              (None, 16, 16, 1024  745472      ['add_10[0][0]']                 \n",
            "                                )                                                                 \n",
            "                                                                                                  \n",
            " block13_pool (MaxPooling2D)    (None, 16, 16, 1024  0           ['block13_sepconv2_bn[0][0]']    \n",
            "                                )                                                                 \n",
            "                                                                                                  \n",
            " batch_normalization_3 (BatchNo  (None, 16, 16, 1024  4096       ['conv2d_3[0][0]']               \n",
            " rmalization)                   )                                                                 \n",
            "                                                                                                  \n",
            " add_11 (Add)                   (None, 16, 16, 1024  0           ['block13_pool[0][0]',           \n",
            "                                )                                 'batch_normalization_3[0][0]']  \n",
            "                                                                                                  \n",
            " block14_sepconv1 (SeparableCon  (None, 16, 16, 1536  1582080    ['add_11[0][0]']                 \n",
            " v2D)                           )                                                                 \n",
            "                                                                                                  \n",
            " block14_sepconv1_bn (BatchNorm  (None, 16, 16, 1536  6144       ['block14_sepconv1[0][0]']       \n",
            " alization)                     )                                                                 \n",
            "                                                                                                  \n",
            " block14_sepconv1_act (Activati  (None, 16, 16, 1536  0          ['block14_sepconv1_bn[0][0]']    \n",
            " on)                            )                                                                 \n",
            "                                                                                                  \n",
            " block14_sepconv2 (SeparableCon  (None, 16, 16, 2048  3159552    ['block14_sepconv1_act[0][0]']   \n",
            " v2D)                           )                                                                 \n",
            "                                                                                                  \n",
            " block14_sepconv2_bn (BatchNorm  (None, 16, 16, 2048  8192       ['block14_sepconv2[0][0]']       \n",
            " alization)                     )                                                                 \n",
            "                                                                                                  \n",
            " block14_sepconv2_act (Activati  (None, 16, 16, 2048  0          ['block14_sepconv2_bn[0][0]']    \n",
            " on)                            )                                                                 \n",
            "                                                                                                  \n",
            " flatten_1 (Flatten)            (None, 524288)       0           ['block14_sepconv2_act[0][0]']   \n",
            "                                                                                                  \n",
            " dense_3 (Dense)                (None, 256)          134217984   ['flatten_1[0][0]']              \n",
            "                                                                                                  \n",
            " dropout_2 (Dropout)            (None, 256)          0           ['dense_3[0][0]']                \n",
            "                                                                                                  \n",
            " dense_4 (Dense)                (None, 128)          32896       ['dropout_2[0][0]']              \n",
            "                                                                                                  \n",
            " dropout_3 (Dropout)            (None, 128)          0           ['dense_4[0][0]']                \n",
            "                                                                                                  \n",
            " dense_5 (Dense)                (None, 2)            258         ['dropout_3[0][0]']              \n",
            "                                                                                                  \n",
            "==================================================================================================\n",
            "Total params: 155,112,618\n",
            "Trainable params: 137,417,858\n",
            "Non-trainable params: 17,694,760\n",
            "__________________________________________________________________________________________________\n"
          ]
        }
      ]
    },
    {
      "cell_type": "markdown",
      "source": [
        "**VGG-19 and Xception Average**"
      ],
      "metadata": {
        "id": "WyTjCBjANniM"
      }
    },
    {
      "cell_type": "code",
      "source": [
        "import tensorflow as tf\n",
        "models = [model_x,model_vgg]\n",
        "model_input = tf.keras.Input(shape=(512, 512, 3))\n",
        "model_outputs = [model(model_input) for model in models]\n",
        "ensemble_output = tf.keras.layers.Average()(model_outputs)\n",
        "ensemble_model = tf.keras.models.Model(inputs=model_input, outputs=ensemble_output, name='ensemble')"
      ],
      "metadata": {
        "id": "nCJC57sWNbeR"
      },
      "execution_count": null,
      "outputs": []
    },
    {
      "cell_type": "code",
      "source": [
        "ensemble_model.summary()"
      ],
      "metadata": {
        "colab": {
          "base_uri": "https://localhost:8080/"
        },
        "id": "Vt28-DyHNbgr",
        "outputId": "f01f336e-90f2-4100-876f-64de14a3470a"
      },
      "execution_count": null,
      "outputs": [
        {
          "output_type": "stream",
          "name": "stdout",
          "text": [
            "Model: \"ensemble\"\n",
            "__________________________________________________________________________________________________\n",
            " Layer (type)                   Output Shape         Param #     Connected to                     \n",
            "==================================================================================================\n",
            " input_3 (InputLayer)           [(None, 512, 512, 3  0           []                               \n",
            "                                )]                                                                \n",
            "                                                                                                  \n",
            " model_1 (Functional)           (None, 2)            155112618   ['input_3[0][0]']                \n",
            "                                                                                                  \n",
            " model (Functional)             (None, 2)            53612226    ['input_3[0][0]']                \n",
            "                                                                                                  \n",
            " average (Average)              (None, 2)            0           ['model_1[0][0]',                \n",
            "                                                                  'model[0][0]']                  \n",
            "                                                                                                  \n",
            "==================================================================================================\n",
            "Total params: 208,724,844\n",
            "Trainable params: 175,725,316\n",
            "Non-trainable params: 32,999,528\n",
            "__________________________________________________________________________________________________\n"
          ]
        }
      ]
    },
    {
      "cell_type": "code",
      "source": [
        "adam = Adam(learning_rate=0.0001)\n",
        "ensemble_model.compile(loss='categorical_crossentropy',optimizer = adam,metrics=['accuracy'])"
      ],
      "metadata": {
        "id": "nR8lFGH9MztP"
      },
      "execution_count": null,
      "outputs": []
    },
    {
      "cell_type": "code",
      "source": [
        "tf.keras.utils.plot_model(ensemble_model, 'model.jpg', show_shapes= True)"
      ],
      "metadata": {
        "colab": {
          "base_uri": "https://localhost:8080/",
          "height": 312
        },
        "id": "8C0N45E7MzvN",
        "outputId": "5a425c9a-df83-48a3-b5c0-0f074017e370"
      },
      "execution_count": null,
      "outputs": [
        {
          "output_type": "execute_result",
          "data": {
            "image/jpeg": "[encoded data removed]",
            "text/plain": [
              "<IPython.core.display.Image object>"
            ]
          },
          "metadata": {},
          "execution_count": 31
        }
      ]
    },
    {
      "cell_type": "code",
      "source": [
        "from tensorflow.keras.callbacks import ModelCheckpoint"
      ],
      "metadata": {
        "id": "ZvsyI4EZMzxV"
      },
      "execution_count": null,
      "outputs": []
    },
    {
      "cell_type": "code",
      "source": [
        "filepath=\"skin cancer_detection_ensemble2.hdf5\"\n",
        "checkpoint = ModelCheckpoint(filepath, monitor='val_loss', verbose=2, save_best_only=True, mode='min',patience=5)\n",
        "callbacks_list = [checkpoint]"
      ],
      "metadata": {
        "id": "G4f9ZZ0PN-5R"
      },
      "execution_count": null,
      "outputs": []
    },
    {
      "cell_type": "markdown",
      "source": [
        "**Training**"
      ],
      "metadata": {
        "id": "O_M0yWInOTdU"
      }
    },
    {
      "cell_type": "code",
      "source": [
        "skin_hist = ensemble_model.fit(x_train,y_train,\n",
        "                    shuffle = True,\n",
        "                    batch_size=32,\n",
        "                    epochs = 50,\n",
        "                    validation_split = 0.10,callbacks=callbacks_list)"
      ],
      "metadata": {
        "colab": {
          "base_uri": "https://localhost:8080/"
        },
        "id": "dDiKfgleN-7Y",
        "outputId": "0dfc0461-a9a7-485a-eab9-d0b96a476354"
      },
      "execution_count": 34,
      "outputs": [
        {
          "output_type": "stream",
          "name": "stdout",
          "text": [
            "Epoch 1/50\n",
            "2/2 [==============================] - ETA: 0s - loss: 14.3932 - accuracy: 0.5278  \n",
            "Epoch 1: val_loss improved from inf to 13.69397, saving model to skin cancer_detection_ensemble2.hdf5\n",
            "2/2 [==============================] - 214s 48s/step - loss: 14.3932 - accuracy: 0.5278 - val_loss: 13.6940 - val_accuracy: 0.2500\n",
            "Epoch 2/50\n",
            "2/2 [==============================] - ETA: 0s - loss: 13.1740 - accuracy: 0.7222  \n",
            "Epoch 2: val_loss improved from 13.69397 to 12.14937, saving model to skin cancer_detection_ensemble2.hdf5\n",
            "2/2 [==============================] - 200s 47s/step - loss: 13.1740 - accuracy: 0.7222 - val_loss: 12.1494 - val_accuracy: 0.7500\n",
            "Epoch 3/50\n",
            "2/2 [==============================] - ETA: 0s - loss: 12.2389 - accuracy: 0.8611  \n",
            "Epoch 3: val_loss improved from 12.14937 to 11.22631, saving model to skin cancer_detection_ensemble2.hdf5\n",
            "2/2 [==============================] - 197s 47s/step - loss: 12.2389 - accuracy: 0.8611 - val_loss: 11.2263 - val_accuracy: 1.0000\n",
            "Epoch 4/50\n",
            "2/2 [==============================] - ETA: 0s - loss: 11.4939 - accuracy: 0.8889  \n",
            "Epoch 4: val_loss improved from 11.22631 to 10.65024, saving model to skin cancer_detection_ensemble2.hdf5\n",
            "2/2 [==============================] - 202s 47s/step - loss: 11.4939 - accuracy: 0.8889 - val_loss: 10.6502 - val_accuracy: 0.7500\n",
            "Epoch 5/50\n",
            "2/2 [==============================] - ETA: 0s - loss: 10.8050 - accuracy: 0.8889  \n",
            "Epoch 5: val_loss improved from 10.65024 to 10.03371, saving model to skin cancer_detection_ensemble2.hdf5\n",
            "2/2 [==============================] - 199s 47s/step - loss: 10.8050 - accuracy: 0.8889 - val_loss: 10.0337 - val_accuracy: 0.7500\n",
            "Epoch 6/50\n",
            "2/2 [==============================] - ETA: 0s - loss: 10.4299 - accuracy: 0.7222  \n",
            "Epoch 6: val_loss improved from 10.03371 to 9.48199, saving model to skin cancer_detection_ensemble2.hdf5\n",
            "2/2 [==============================] - 197s 47s/step - loss: 10.4299 - accuracy: 0.7222 - val_loss: 9.4820 - val_accuracy: 0.7500\n",
            "Epoch 7/50\n",
            "2/2 [==============================] - ETA: 0s - loss: 9.5462 - accuracy: 0.9167  \n",
            "Epoch 7: val_loss improved from 9.48199 to 8.99869, saving model to skin cancer_detection_ensemble2.hdf5\n",
            "2/2 [==============================] - 202s 47s/step - loss: 9.5462 - accuracy: 0.9167 - val_loss: 8.9987 - val_accuracy: 0.7500\n",
            "Epoch 8/50\n",
            "2/2 [==============================] - ETA: 0s - loss: 8.9664 - accuracy: 0.9444  \n",
            "Epoch 8: val_loss improved from 8.99869 to 8.57663, saving model to skin cancer_detection_ensemble2.hdf5\n",
            "2/2 [==============================] - 197s 47s/step - loss: 8.9664 - accuracy: 0.9444 - val_loss: 8.5766 - val_accuracy: 0.7500\n",
            "Epoch 9/50\n",
            "2/2 [==============================] - ETA: 0s - loss: 8.4865 - accuracy: 0.9444  \n",
            "Epoch 9: val_loss improved from 8.57663 to 8.20075, saving model to skin cancer_detection_ensemble2.hdf5\n",
            "2/2 [==============================] - 197s 47s/step - loss: 8.4865 - accuracy: 0.9444 - val_loss: 8.2008 - val_accuracy: 0.7500\n",
            "Epoch 10/50\n",
            "2/2 [==============================] - ETA: 0s - loss: 8.5989 - accuracy: 0.8333  \n",
            "Epoch 10: val_loss improved from 8.20075 to 7.85980, saving model to skin cancer_detection_ensemble2.hdf5\n",
            "2/2 [==============================] - 204s 49s/step - loss: 8.5989 - accuracy: 0.8333 - val_loss: 7.8598 - val_accuracy: 0.7500\n",
            "Epoch 11/50\n",
            "2/2 [==============================] - ETA: 0s - loss: 7.8468 - accuracy: 0.9444  \n",
            "Epoch 11: val_loss improved from 7.85980 to 7.50941, saving model to skin cancer_detection_ensemble2.hdf5\n",
            "2/2 [==============================] - 196s 47s/step - loss: 7.8468 - accuracy: 0.9444 - val_loss: 7.5094 - val_accuracy: 1.0000\n",
            "Epoch 12/50\n",
            "2/2 [==============================] - ETA: 0s - loss: 7.5419 - accuracy: 0.8889  \n",
            "Epoch 12: val_loss improved from 7.50941 to 7.07555, saving model to skin cancer_detection_ensemble2.hdf5\n",
            "2/2 [==============================] - 196s 47s/step - loss: 7.5419 - accuracy: 0.8889 - val_loss: 7.0755 - val_accuracy: 1.0000\n",
            "Epoch 13/50\n",
            "2/2 [==============================] - ETA: 0s - loss: 7.2033 - accuracy: 0.9722  \n",
            "Epoch 13: val_loss improved from 7.07555 to 6.81663, saving model to skin cancer_detection_ensemble2.hdf5\n",
            "2/2 [==============================] - 205s 48s/step - loss: 7.2033 - accuracy: 0.9722 - val_loss: 6.8166 - val_accuracy: 1.0000\n",
            "Epoch 14/50\n",
            "2/2 [==============================] - ETA: 0s - loss: 6.9452 - accuracy: 0.9722  \n",
            "Epoch 14: val_loss improved from 6.81663 to 6.59626, saving model to skin cancer_detection_ensemble2.hdf5\n",
            "2/2 [==============================] - 196s 47s/step - loss: 6.9452 - accuracy: 0.9722 - val_loss: 6.5963 - val_accuracy: 1.0000\n",
            "Epoch 15/50\n",
            "2/2 [==============================] - ETA: 0s - loss: 6.7158 - accuracy: 0.9722  \n",
            "Epoch 15: val_loss improved from 6.59626 to 6.39863, saving model to skin cancer_detection_ensemble2.hdf5\n",
            "2/2 [==============================] - 196s 47s/step - loss: 6.7158 - accuracy: 0.9722 - val_loss: 6.3986 - val_accuracy: 1.0000\n",
            "Epoch 16/50\n",
            "2/2 [==============================] - ETA: 0s - loss: 6.6310 - accuracy: 0.8889  \n",
            "Epoch 16: val_loss improved from 6.39863 to 6.22224, saving model to skin cancer_detection_ensemble2.hdf5\n",
            "2/2 [==============================] - 203s 48s/step - loss: 6.6310 - accuracy: 0.8889 - val_loss: 6.2222 - val_accuracy: 1.0000\n",
            "Epoch 17/50\n",
            "2/2 [==============================] - ETA: 0s - loss: 6.3908 - accuracy: 0.9444  \n",
            "Epoch 17: val_loss improved from 6.22224 to 6.06419, saving model to skin cancer_detection_ensemble2.hdf5\n",
            "2/2 [==============================] - 198s 47s/step - loss: 6.3908 - accuracy: 0.9444 - val_loss: 6.0642 - val_accuracy: 1.0000\n",
            "Epoch 18/50\n",
            "2/2 [==============================] - ETA: 0s - loss: 6.2411 - accuracy: 0.9444  \n",
            "Epoch 18: val_loss improved from 6.06419 to 5.92106, saving model to skin cancer_detection_ensemble2.hdf5\n",
            "2/2 [==============================] - 197s 47s/step - loss: 6.2411 - accuracy: 0.9444 - val_loss: 5.9211 - val_accuracy: 1.0000\n",
            "Epoch 19/50\n",
            "2/2 [==============================] - ETA: 0s - loss: 6.0651 - accuracy: 0.9722  \n",
            "Epoch 19: val_loss improved from 5.92106 to 5.79135, saving model to skin cancer_detection_ensemble2.hdf5\n",
            "2/2 [==============================] - 203s 47s/step - loss: 6.0651 - accuracy: 0.9722 - val_loss: 5.7914 - val_accuracy: 1.0000\n",
            "Epoch 20/50\n",
            "2/2 [==============================] - ETA: 0s - loss: 6.1308 - accuracy: 0.9444  \n",
            "Epoch 20: val_loss improved from 5.79135 to 5.67376, saving model to skin cancer_detection_ensemble2.hdf5\n",
            "2/2 [==============================] - 196s 47s/step - loss: 6.1308 - accuracy: 0.9444 - val_loss: 5.6738 - val_accuracy: 1.0000\n",
            "Epoch 21/50\n",
            "2/2 [==============================] - ETA: 0s - loss: 5.8599 - accuracy: 0.9444  \n",
            "Epoch 21: val_loss improved from 5.67376 to 5.56645, saving model to skin cancer_detection_ensemble2.hdf5\n",
            "2/2 [==============================] - 197s 49s/step - loss: 5.8599 - accuracy: 0.9444 - val_loss: 5.5664 - val_accuracy: 1.0000\n",
            "Epoch 22/50\n",
            "2/2 [==============================] - ETA: 0s - loss: 5.6861 - accuracy: 0.9444  \n",
            "Epoch 22: val_loss improved from 5.56645 to 5.46763, saving model to skin cancer_detection_ensemble2.hdf5\n",
            "2/2 [==============================] - 203s 47s/step - loss: 5.6861 - accuracy: 0.9444 - val_loss: 5.4676 - val_accuracy: 1.0000\n",
            "Epoch 23/50\n",
            "2/2 [==============================] - ETA: 0s - loss: 5.6605 - accuracy: 0.9444  \n",
            "Epoch 23: val_loss improved from 5.46763 to 5.37634, saving model to skin cancer_detection_ensemble2.hdf5\n",
            "2/2 [==============================] - 195s 47s/step - loss: 5.6605 - accuracy: 0.9444 - val_loss: 5.3763 - val_accuracy: 1.0000\n",
            "Epoch 24/50\n",
            "2/2 [==============================] - ETA: 0s - loss: 5.5848 - accuracy: 0.9722  \n",
            "Epoch 24: val_loss improved from 5.37634 to 5.29311, saving model to skin cancer_detection_ensemble2.hdf5\n",
            "2/2 [==============================] - 195s 47s/step - loss: 5.5848 - accuracy: 0.9722 - val_loss: 5.2931 - val_accuracy: 1.0000\n",
            "Epoch 25/50\n",
            "2/2 [==============================] - ETA: 0s - loss: 5.4014 - accuracy: 0.9722  \n",
            "Epoch 25: val_loss improved from 5.29311 to 5.21790, saving model to skin cancer_detection_ensemble2.hdf5\n",
            "2/2 [==============================] - 202s 48s/step - loss: 5.4014 - accuracy: 0.9722 - val_loss: 5.2179 - val_accuracy: 1.0000\n",
            "Epoch 26/50\n",
            "2/2 [==============================] - ETA: 0s - loss: 5.3108 - accuracy: 0.9722  \n",
            "Epoch 26: val_loss improved from 5.21790 to 5.14979, saving model to skin cancer_detection_ensemble2.hdf5\n",
            "2/2 [==============================] - 199s 50s/step - loss: 5.3108 - accuracy: 0.9722 - val_loss: 5.1498 - val_accuracy: 1.0000\n",
            "Epoch 27/50\n",
            "2/2 [==============================] - ETA: 0s - loss: 5.2327 - accuracy: 1.0000  \n",
            "Epoch 27: val_loss improved from 5.14979 to 5.08950, saving model to skin cancer_detection_ensemble2.hdf5\n",
            "2/2 [==============================] - 197s 47s/step - loss: 5.2327 - accuracy: 1.0000 - val_loss: 5.0895 - val_accuracy: 1.0000\n",
            "Epoch 28/50\n",
            "2/2 [==============================] - ETA: 0s - loss: 5.2453 - accuracy: 0.9444  \n",
            "Epoch 28: val_loss improved from 5.08950 to 5.05064, saving model to skin cancer_detection_ensemble2.hdf5\n",
            "2/2 [==============================] - 208s 49s/step - loss: 5.2453 - accuracy: 0.9444 - val_loss: 5.0506 - val_accuracy: 1.0000\n",
            "Epoch 29/50\n",
            "2/2 [==============================] - ETA: 0s - loss: 5.0620 - accuracy: 1.0000  \n",
            "Epoch 29: val_loss improved from 5.05064 to 5.03151, saving model to skin cancer_detection_ensemble2.hdf5\n",
            "2/2 [==============================] - 197s 47s/step - loss: 5.0620 - accuracy: 1.0000 - val_loss: 5.0315 - val_accuracy: 1.0000\n",
            "Epoch 30/50\n",
            "2/2 [==============================] - ETA: 0s - loss: 5.0305 - accuracy: 1.0000  \n",
            "Epoch 30: val_loss did not improve from 5.03151\n",
            "2/2 [==============================] - 187s 38s/step - loss: 5.0305 - accuracy: 1.0000 - val_loss: 5.0736 - val_accuracy: 1.0000\n",
            "Epoch 31/50\n",
            "2/2 [==============================] - ETA: 0s - loss: 4.9609 - accuracy: 1.0000  \n",
            "Epoch 31: val_loss did not improve from 5.03151\n",
            "2/2 [==============================] - 194s 39s/step - loss: 4.9609 - accuracy: 1.0000 - val_loss: 5.3581 - val_accuracy: 0.7500\n",
            "Epoch 32/50\n",
            "2/2 [==============================] - ETA: 0s - loss: 4.9658 - accuracy: 0.9167  \n",
            "Epoch 32: val_loss did not improve from 5.03151\n",
            "2/2 [==============================] - 191s 39s/step - loss: 4.9658 - accuracy: 0.9167 - val_loss: 5.3692 - val_accuracy: 0.7500\n",
            "Epoch 33/50\n",
            "2/2 [==============================] - ETA: 0s - loss: 4.8513 - accuracy: 1.0000  \n",
            "Epoch 33: val_loss did not improve from 5.03151\n",
            "2/2 [==============================] - 188s 39s/step - loss: 4.8513 - accuracy: 1.0000 - val_loss: 5.3784 - val_accuracy: 0.7500\n",
            "Epoch 34/50\n",
            "2/2 [==============================] - ETA: 0s - loss: 4.8002 - accuracy: 1.0000  \n",
            "Epoch 34: val_loss did not improve from 5.03151\n",
            "2/2 [==============================] - 194s 45s/step - loss: 4.8002 - accuracy: 1.0000 - val_loss: 5.6197 - val_accuracy: 0.5000\n",
            "Epoch 35/50\n",
            "2/2 [==============================] - ETA: 0s - loss: 4.7846 - accuracy: 0.9722  \n",
            "Epoch 35: val_loss did not improve from 5.03151\n",
            "2/2 [==============================] - 189s 39s/step - loss: 4.7846 - accuracy: 0.9722 - val_loss: 5.6277 - val_accuracy: 0.5000\n",
            "Epoch 36/50\n",
            "2/2 [==============================] - ETA: 0s - loss: 5.1766 - accuracy: 0.8889  \n",
            "Epoch 36: val_loss did not improve from 5.03151\n",
            "2/2 [==============================] - 187s 39s/step - loss: 5.1766 - accuracy: 0.8889 - val_loss: 5.2515 - val_accuracy: 0.7500\n",
            "Epoch 37/50\n",
            "2/2 [==============================] - ETA: 0s - loss: 4.6724 - accuracy: 1.0000  \n",
            "Epoch 37: val_loss did not improve from 5.03151\n",
            "2/2 [==============================] - 187s 38s/step - loss: 4.6724 - accuracy: 1.0000 - val_loss: 5.0784 - val_accuracy: 0.7500\n",
            "Epoch 38/50\n",
            "2/2 [==============================] - ETA: 0s - loss: 4.6634 - accuracy: 0.9444  \n",
            "Epoch 38: val_loss improved from 5.03151 to 5.01124, saving model to skin cancer_detection_ensemble2.hdf5\n",
            "2/2 [==============================] - 218s 48s/step - loss: 4.6634 - accuracy: 0.9444 - val_loss: 5.0112 - val_accuracy: 0.7500\n",
            "Epoch 39/50\n",
            "2/2 [==============================] - ETA: 0s - loss: 4.6015 - accuracy: 1.0000  \n",
            "Epoch 39: val_loss improved from 5.01124 to 4.95557, saving model to skin cancer_detection_ensemble2.hdf5\n",
            "2/2 [==============================] - 197s 47s/step - loss: 4.6015 - accuracy: 1.0000 - val_loss: 4.9556 - val_accuracy: 0.7500\n",
            "Epoch 40/50\n",
            "2/2 [==============================] - ETA: 0s - loss: 4.6113 - accuracy: 0.9444  \n",
            "Epoch 40: val_loss improved from 4.95557 to 4.92086, saving model to skin cancer_detection_ensemble2.hdf5\n",
            "2/2 [==============================] - 198s 47s/step - loss: 4.6113 - accuracy: 0.9444 - val_loss: 4.9209 - val_accuracy: 0.7500\n",
            "Epoch 41/50\n",
            "2/2 [==============================] - ETA: 0s - loss: 4.5215 - accuracy: 0.9722  \n",
            "Epoch 41: val_loss did not improve from 4.92086\n",
            "2/2 [==============================] - 193s 39s/step - loss: 4.5215 - accuracy: 0.9722 - val_loss: 4.9324 - val_accuracy: 0.7500\n",
            "Epoch 42/50\n",
            "2/2 [==============================] - ETA: 0s - loss: 4.4712 - accuracy: 0.9722  \n",
            "Epoch 42: val_loss improved from 4.92086 to 4.77408, saving model to skin cancer_detection_ensemble2.hdf5\n",
            "2/2 [==============================] - 196s 47s/step - loss: 4.4712 - accuracy: 0.9722 - val_loss: 4.7741 - val_accuracy: 0.7500\n",
            "Epoch 43/50\n",
            "2/2 [==============================] - ETA: 0s - loss: 4.4662 - accuracy: 1.0000  \n",
            "Epoch 43: val_loss improved from 4.77408 to 4.41382, saving model to skin cancer_detection_ensemble2.hdf5\n",
            "2/2 [==============================] - 199s 49s/step - loss: 4.4662 - accuracy: 1.0000 - val_loss: 4.4138 - val_accuracy: 1.0000\n",
            "Epoch 44/50\n",
            "2/2 [==============================] - ETA: 0s - loss: 4.4226 - accuracy: 1.0000  \n",
            "Epoch 44: val_loss improved from 4.41382 to 4.36951, saving model to skin cancer_detection_ensemble2.hdf5\n",
            "2/2 [==============================] - 204s 48s/step - loss: 4.4226 - accuracy: 1.0000 - val_loss: 4.3695 - val_accuracy: 1.0000\n",
            "Epoch 45/50\n",
            "2/2 [==============================] - ETA: 0s - loss: 4.3856 - accuracy: 0.9722  \n",
            "Epoch 45: val_loss improved from 4.36951 to 4.34419, saving model to skin cancer_detection_ensemble2.hdf5\n",
            "2/2 [==============================] - 198s 47s/step - loss: 4.3856 - accuracy: 0.9722 - val_loss: 4.3442 - val_accuracy: 1.0000\n",
            "Epoch 46/50\n",
            "2/2 [==============================] - ETA: 0s - loss: 4.3560 - accuracy: 1.0000  \n",
            "Epoch 46: val_loss improved from 4.34419 to 4.32112, saving model to skin cancer_detection_ensemble2.hdf5\n",
            "2/2 [==============================] - 197s 48s/step - loss: 4.3560 - accuracy: 1.0000 - val_loss: 4.3211 - val_accuracy: 1.0000\n",
            "Epoch 47/50\n",
            "2/2 [==============================] - ETA: 0s - loss: 4.3291 - accuracy: 0.9722  \n",
            "Epoch 47: val_loss improved from 4.32112 to 4.29640, saving model to skin cancer_detection_ensemble2.hdf5\n",
            "2/2 [==============================] - 204s 48s/step - loss: 4.3291 - accuracy: 0.9722 - val_loss: 4.2964 - val_accuracy: 1.0000\n",
            "Epoch 48/50\n",
            "2/2 [==============================] - ETA: 0s - loss: 4.2721 - accuracy: 1.0000  \n",
            "Epoch 48: val_loss improved from 4.29640 to 4.27261, saving model to skin cancer_detection_ensemble2.hdf5\n",
            "2/2 [==============================] - 199s 50s/step - loss: 4.2721 - accuracy: 1.0000 - val_loss: 4.2726 - val_accuracy: 1.0000\n",
            "Epoch 49/50\n",
            "2/2 [==============================] - ETA: 0s - loss: 4.2773 - accuracy: 0.9722  \n",
            "Epoch 49: val_loss improved from 4.27261 to 4.26001, saving model to skin cancer_detection_ensemble2.hdf5\n",
            "2/2 [==============================] - 198s 47s/step - loss: 4.2773 - accuracy: 0.9722 - val_loss: 4.2600 - val_accuracy: 1.0000\n",
            "Epoch 50/50\n",
            "2/2 [==============================] - ETA: 0s - loss: 4.2119 - accuracy: 1.0000  \n",
            "Epoch 50: val_loss did not improve from 4.26001\n",
            "2/2 [==============================] - 196s 39s/step - loss: 4.2119 - accuracy: 1.0000 - val_loss: 4.4117 - val_accuracy: 0.7500\n"
          ]
        }
      ]
    },
    {
      "cell_type": "code",
      "source": [
        "plt.figure(1, figsize = (15, 5))\n",
        "plt.subplot(1,2,1)\n",
        "plt.xlabel(\"Epochs\")\n",
        "plt.ylabel(\"Loss\")\n",
        "plt.plot( skin_hist.history[\"loss\"], label = \"Training Loss\")\n",
        "plt.plot( skin_hist.history[\"val_loss\"], label = \"Validation Loss\")\n",
        "plt.grid(True)\n",
        "plt.legend()\n",
        "\n",
        "plt.subplot(1,2,2)\n",
        "plt.xlabel(\"Epochs\")\n",
        "plt.ylabel(\"Accuracy\")\n",
        "plt.plot( skin_hist.history[\"accuracy\"], label = \"Training Accuracy\")\n",
        "plt.plot( skin_hist.history[\"val_accuracy\"], label = \"Validation Accuracy\")\n",
        "plt.grid(True)\n",
        "plt.legend()"
      ],
      "metadata": {
        "id": "-SJtVFTWN-9t",
        "colab": {
          "base_uri": "https://localhost:8080/",
          "height": 352
        },
        "outputId": "77833c2a-1260-45a2-ebd9-94b383a85815"
      },
      "execution_count": 35,
      "outputs": [
        {
          "output_type": "execute_result",
          "data": {
            "text/plain": [
              "<matplotlib.legend.Legend at 0x7fbddc79dc90>"
            ]
          },
          "metadata": {},
          "execution_count": 35
        },
        {
          "output_type": "display_data",
          "data": {
            "text/plain": [
              "<Figure size 1080x360 with 2 Axes>"
            ],
            "image/png": "[encoded data removed]"
          },
          "metadata": {
            "needs_background": "light"
          }
        }
      ]
    },
    {
      "cell_type": "code",
      "source": [
        "test_images = \"/content/drive/MyDrive/skin cancer/data/test\"\n",
        "\n",
        "test_image_data = []\n",
        "test_labels = []\n",
        "\n",
        "test_folders = os.listdir(test_images)\n",
        "print(test_folders)\n",
        "\n",
        "label_dict = {\n",
        "    'benign':0,\n",
        "    'malignant':1\n",
        "}\n",
        "\n",
        "from keras.preprocessing import image\n",
        "\n",
        "for ix in test_folders:\n",
        "    path = os.path.join(test_images,ix)\n",
        "    for im in os.listdir(path):\n",
        "        img = image.load_img(os.path.join(path,im),target_size = ((512,512)))\n",
        "        img_array = image.img_to_array(img)\n",
        "        test_image_data.append(img_array)\n",
        "        test_labels.append(label_dict[ix])\n",
        "        \n",
        "\n",
        "combined = list(zip(test_image_data,test_labels))\n",
        "test_image_data[:],test_labels[:] = zip(*combined)\n",
        "\n",
        "x_test = np.array(test_image_data)\n",
        "y_test = np.array(test_labels)\n",
        "\n",
        "from keras.utils import np_utils\n",
        "\n",
        "y_test = np_utils.to_categorical(y_test)\n",
        "print(x_test.shape,y_test.shape)"
      ],
      "metadata": {
        "id": "5cxLjlH6N_A9",
        "colab": {
          "base_uri": "https://localhost:8080/"
        },
        "outputId": "ce9793e9-3784-4f55-daf5-ad8ab73ae2de"
      },
      "execution_count": 38,
      "outputs": [
        {
          "output_type": "stream",
          "name": "stdout",
          "text": [
            "['malignant', 'benign']\n",
            "(40, 512, 512, 3) (40, 2)\n"
          ]
        }
      ]
    },
    {
      "cell_type": "code",
      "source": [
        "ensemble_model.evaluate(x_test,y_test)"
      ],
      "metadata": {
        "id": "wiHLYv_cN_Da",
        "colab": {
          "base_uri": "https://localhost:8080/"
        },
        "outputId": "dcf3e9e5-0182-4a99-c74b-4dd7d6c78a34"
      },
      "execution_count": 39,
      "outputs": [
        {
          "output_type": "stream",
          "name": "stdout",
          "text": [
            "2/2 [==============================] - 178s 34s/step - loss: 5.3985 - accuracy: 0.8000\n"
          ]
        },
        {
          "output_type": "execute_result",
          "data": {
            "text/plain": [
              "[5.398515224456787, 0.800000011920929]"
            ]
          },
          "metadata": {},
          "execution_count": 39
        }
      ]
    },
    {
      "cell_type": "code",
      "source": [
        "from sklearn.metrics import classification_report,confusion_matrix"
      ],
      "metadata": {
        "id": "0-UApoHH0YSa"
      },
      "execution_count": 40,
      "outputs": []
    },
    {
      "cell_type": "code",
      "source": [
        "predictions = ensemble_model.predict(x_test, batch_size = 32)\n",
        "pred = np.argmax(predictions, axis=1)"
      ],
      "metadata": {
        "id": "8c1kCHqJ0YUr"
      },
      "execution_count": 41,
      "outputs": []
    },
    {
      "cell_type": "code",
      "source": [
        "print(confusion_matrix(test_labels, pred))"
      ],
      "metadata": {
        "colab": {
          "base_uri": "https://localhost:8080/"
        },
        "id": "1N-o5ub00YXB",
        "outputId": "1a7dc4a2-97de-4423-f355-34c3a83339f9"
      },
      "execution_count": 42,
      "outputs": [
        {
          "output_type": "stream",
          "name": "stdout",
          "text": [
            "[[17  3]\n",
            " [ 5 15]]\n"
          ]
        }
      ]
    },
    {
      "cell_type": "code",
      "source": [
        "# Normalized Confusion Matrix\n",
        "import numpy as np\n",
        "import seaborn as sns\n",
        "print(\"Normalized Confusion Matrix: \")\n",
        "cm_normalized = np.round(confusion_matrix(test_labels, pred)/np.sum(confusion_matrix(test_labels, pred), axis = 1).reshape(-1, 1),2)\n",
        "print(cm_normalized)\n",
        "sns.heatmap(cm_normalized, annot = True)\n",
        "plt.xlabel(\"Predicted\")\n",
        "plt.ylabel(\"Actual\")\n",
        "plt.show()"
      ],
      "metadata": {
        "colab": {
          "base_uri": "https://localhost:8080/",
          "height": 334
        },
        "id": "8maETWUh0YZb",
        "outputId": "36301b19-7051-4e2b-8a1b-3ca148ad50a0"
      },
      "execution_count": 44,
      "outputs": [
        {
          "output_type": "stream",
          "name": "stdout",
          "text": [
            "Normalized Confusion Matrix: \n",
            "[[0.85 0.15]\n",
            " [0.25 0.75]]\n"
          ]
        },
        {
          "output_type": "display_data",
          "data": {
            "text/plain": [
              "<Figure size 432x288 with 2 Axes>"
            ],
            "image/png": "[encoded data removed]"
          },
          "metadata": {
            "needs_background": "light"
          }
        }
      ]
    },
    {
      "cell_type": "code",
      "source": [
        "sensitivity1 = confusion_matrix(test_labels, pred)[0,0]/(confusion_matrix(test_labels, pred)[0,0]+confusion_matrix(test_labels, pred)[0,1])\n",
        "print('Sensitivity : ', sensitivity1 )"
      ],
      "metadata": {
        "colab": {
          "base_uri": "https://localhost:8080/"
        },
        "id": "Rp-RmCeD0YcL",
        "outputId": "c78393ef-5459-4734-c553-db740d50bbfb"
      },
      "execution_count": 45,
      "outputs": [
        {
          "output_type": "stream",
          "name": "stdout",
          "text": [
            "Sensitivity :  0.85\n"
          ]
        }
      ]
    },
    {
      "cell_type": "code",
      "source": [
        "specificity1 = confusion_matrix(test_labels, pred)[1,1]/(confusion_matrix(test_labels, pred)[1,0]+confusion_matrix(test_labels, pred)[1,1])\n",
        "print('Specificity : ', specificity1)"
      ],
      "metadata": {
        "colab": {
          "base_uri": "https://localhost:8080/"
        },
        "id": "wlaADLnI0YfE",
        "outputId": "297e1e8d-966e-4236-becd-1d09f576591c"
      },
      "execution_count": 46,
      "outputs": [
        {
          "output_type": "stream",
          "name": "stdout",
          "text": [
            "Specificity :  0.75\n"
          ]
        }
      ]
    },
    {
      "cell_type": "code",
      "source": [],
      "metadata": {
        "id": "dfK0NfYSMzyy"
      },
      "execution_count": null,
      "outputs": []
    }
  ]
}